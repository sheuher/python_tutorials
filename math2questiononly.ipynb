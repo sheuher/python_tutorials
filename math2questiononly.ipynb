{
 "cells": [
  {
   "cell_type": "code",
   "execution_count": 549,
   "id": "d5610a7a",
   "metadata": {},
   "outputs": [],
   "source": [
    "import numpy as np\n",
    "import sympy as smp\n",
    "from sympy.vector import *\n",
    "import matplotlib.pyplot as plt\n",
    "from scipy.integrate import quad \n",
    "from scipy.integrate import quad_vec"
   ]
  },
  {
   "cell_type": "code",
   "execution_count": 550,
   "id": "2aa825ca",
   "metadata": {},
   "outputs": [],
   "source": [
    "x, y, z, u1, u2, u3, v1, v2, v3, t = smp.symbols('x y z u_1 u_2 u_3 v_1 v_2 v_3 t')"
   ]
  },
  {
   "cell_type": "markdown",
   "metadata": {},
   "source": [
    "# Vectors and Geometry"
   ]
  },
  {
   "cell_type": "markdown",
   "metadata": {},
   "source": [
    "Numerical or symbolic"
   ]
  },
  {
   "cell_type": "code",
   "execution_count": 551,
   "id": "7b698760",
   "metadata": {},
   "outputs": [],
   "source": [
    "#Numerical\n",
    "a = np.array([1,2,3])\n",
    "b = np.array([7,8,9])\n",
    "#symbolic\n",
    "u = smp.Matrix([u1,u2,u3])\n",
    "v = smp.Matrix([v1,v2,v3])"
   ]
  },
  {
   "cell_type": "code",
   "execution_count": 552,
   "id": "c5acb4b4",
   "metadata": {},
   "outputs": [
    {
     "data": {
      "text/plain": [
       "array([1, 2, 3])"
      ]
     },
     "execution_count": 552,
     "metadata": {},
     "output_type": "execute_result"
    }
   ],
   "source": [
    "a"
   ]
  },
  {
   "cell_type": "code",
   "execution_count": 553,
   "id": "63fca3df",
   "metadata": {},
   "outputs": [
    {
     "data": {
      "text/latex": [
       "$\\displaystyle \\left[\\begin{matrix}u_{1}\\\\u_{2}\\\\u_{3}\\end{matrix}\\right]$"
      ],
      "text/plain": [
       "Matrix([\n",
       "[u_1],\n",
       "[u_2],\n",
       "[u_3]])"
      ]
     },
     "execution_count": 553,
     "metadata": {},
     "output_type": "execute_result"
    }
   ],
   "source": [
    "u"
   ]
  },
  {
   "cell_type": "code",
   "execution_count": 554,
   "id": "b6811f66",
   "metadata": {},
   "outputs": [
    {
     "data": {
      "text/latex": [
       "$\\displaystyle \\left[\\begin{matrix}3\\\\u_{2}\\\\u_{3}\\end{matrix}\\right]$"
      ],
      "text/plain": [
       "Matrix([\n",
       "[  3],\n",
       "[u_2],\n",
       "[u_3]])"
      ]
     },
     "execution_count": 554,
     "metadata": {},
     "output_type": "execute_result"
    }
   ],
   "source": [
    "u.subs([(u1,3)])"
   ]
  },
  {
   "cell_type": "markdown",
   "metadata": {},
   "source": [
    "## Addition and multiplication"
   ]
  },
  {
   "cell_type": "code",
   "execution_count": 555,
   "id": "2bc7a9a4",
   "metadata": {},
   "outputs": [
    {
     "data": {
      "text/plain": [
       "array([ 9, 12, 15])"
      ]
     },
     "execution_count": 555,
     "metadata": {},
     "output_type": "execute_result"
    }
   ],
   "source": [
    "2*a + b"
   ]
  },
  {
   "cell_type": "code",
   "execution_count": 556,
   "id": "3a8dc278",
   "metadata": {},
   "outputs": [
    {
     "data": {
      "text/latex": [
       "$\\displaystyle \\left[\\begin{matrix}2 u_{1} + v_{1}\\\\2 u_{2} + v_{2}\\\\2 u_{3} + v_{3}\\end{matrix}\\right]$"
      ],
      "text/plain": [
       "Matrix([\n",
       "[2*u_1 + v_1],\n",
       "[2*u_2 + v_2],\n",
       "[2*u_3 + v_3]])"
      ]
     },
     "execution_count": 556,
     "metadata": {},
     "output_type": "execute_result"
    }
   ],
   "source": [
    "2*u + v"
   ]
  },
  {
   "cell_type": "markdown",
   "metadata": {},
   "source": [
    "## Dot products"
   ]
  },
  {
   "cell_type": "code",
   "execution_count": 557,
   "id": "baa67924",
   "metadata": {},
   "outputs": [
    {
     "data": {
      "text/plain": [
       "50"
      ]
     },
     "execution_count": 557,
     "metadata": {},
     "output_type": "execute_result"
    }
   ],
   "source": [
    "np.dot(a, b)"
   ]
  },
  {
   "cell_type": "code",
   "execution_count": 558,
   "id": "dd8dfa21",
   "metadata": {},
   "outputs": [
    {
     "data": {
      "text/latex": [
       "$\\displaystyle u_{1} v_{1} + u_{2} v_{2} + u_{3} v_{3}$"
      ],
      "text/plain": [
       "u_1*v_1 + u_2*v_2 + u_3*v_3"
      ]
     },
     "execution_count": 558,
     "metadata": {},
     "output_type": "execute_result"
    }
   ],
   "source": [
    "u.dot(v)"
   ]
  },
  {
   "cell_type": "markdown",
   "metadata": {},
   "source": [
    "## Cross products"
   ]
  },
  {
   "cell_type": "code",
   "execution_count": 559,
   "id": "5b47aaea",
   "metadata": {},
   "outputs": [
    {
     "data": {
      "text/plain": [
       "array([-6, 12, -6])"
      ]
     },
     "execution_count": 559,
     "metadata": {},
     "output_type": "execute_result"
    }
   ],
   "source": [
    "np.cross(a, b)"
   ]
  },
  {
   "cell_type": "code",
   "execution_count": 560,
   "id": "5c9d6e77",
   "metadata": {},
   "outputs": [
    {
     "data": {
      "text/latex": [
       "$\\displaystyle \\left[\\begin{matrix}u_{2} v_{3} - u_{3} v_{2}\\\\- u_{1} v_{3} + u_{3} v_{1}\\\\u_{1} v_{2} - u_{2} v_{1}\\end{matrix}\\right]$"
      ],
      "text/plain": [
       "Matrix([\n",
       "[ u_2*v_3 - u_3*v_2],\n",
       "[-u_1*v_3 + u_3*v_1],\n",
       "[ u_1*v_2 - u_2*v_1]])"
      ]
     },
     "execution_count": 560,
     "metadata": {},
     "output_type": "execute_result"
    }
   ],
   "source": [
    "u.cross(v)"
   ]
  },
  {
   "cell_type": "markdown",
   "metadata": {},
   "source": [
    "## Length of vector"
   ]
  },
  {
   "cell_type": "code",
   "execution_count": 561,
   "id": "e134110b",
   "metadata": {},
   "outputs": [
    {
     "data": {
      "text/plain": [
       "3.7416573867739413"
      ]
     },
     "execution_count": 561,
     "metadata": {},
     "output_type": "execute_result"
    }
   ],
   "source": [
    "np.linalg.norm(a)"
   ]
  },
  {
   "cell_type": "code",
   "execution_count": 562,
   "id": "2e22ec77",
   "metadata": {},
   "outputs": [
    {
     "data": {
      "text/latex": [
       "$\\displaystyle \\sqrt{\\left|{u_{1}}\\right|^{2} + \\left|{u_{2}}\\right|^{2} + \\left|{u_{3}}\\right|^{2}}$"
      ],
      "text/plain": [
       "sqrt(Abs(u_1)**2 + Abs(u_2)**2 + Abs(u_3)**2)"
      ]
     },
     "execution_count": 562,
     "metadata": {},
     "output_type": "execute_result"
    }
   ],
   "source": [
    "u.norm()"
   ]
  },
  {
   "cell_type": "markdown",
   "metadata": {},
   "source": [
    "## Vector projection\n",
    "\n",
    "$\\text{proj}_v(u) = \\frac{u \\cdot v}{|v|^2} v$\n",
    "\n",
    "how much is the vector u in the direction of vector v"
   ]
  },
  {
   "cell_type": "code",
   "execution_count": 563,
   "id": "cc268f35",
   "metadata": {},
   "outputs": [
    {
     "data": {
      "text/plain": [
       "array([1.80412371, 2.06185567, 2.31958763])"
      ]
     },
     "execution_count": 563,
     "metadata": {},
     "output_type": "execute_result"
    }
   ],
   "source": [
    "proj_b_a = np.dot(a,b)/np.linalg.norm(b)**2 * b\n",
    "proj_b_a"
   ]
  },
  {
   "cell_type": "code",
   "execution_count": 564,
   "id": "a63cb3d1",
   "metadata": {},
   "outputs": [
    {
     "data": {
      "text/latex": [
       "$\\displaystyle \\left[\\begin{matrix}\\frac{v_{1} \\left(u_{1} v_{1} + u_{2} v_{2} + u_{3} v_{3}\\right)}{\\left|{v_{1}}\\right|^{2} + \\left|{v_{2}}\\right|^{2} + \\left|{v_{3}}\\right|^{2}}\\\\\\frac{v_{2} \\left(u_{1} v_{1} + u_{2} v_{2} + u_{3} v_{3}\\right)}{\\left|{v_{1}}\\right|^{2} + \\left|{v_{2}}\\right|^{2} + \\left|{v_{3}}\\right|^{2}}\\\\\\frac{v_{3} \\left(u_{1} v_{1} + u_{2} v_{2} + u_{3} v_{3}\\right)}{\\left|{v_{1}}\\right|^{2} + \\left|{v_{2}}\\right|^{2} + \\left|{v_{3}}\\right|^{2}}\\end{matrix}\\right]$"
      ],
      "text/plain": [
       "Matrix([\n",
       "[v_1*(u_1*v_1 + u_2*v_2 + u_3*v_3)/(Abs(v_1)**2 + Abs(v_2)**2 + Abs(v_3)**2)],\n",
       "[v_2*(u_1*v_1 + u_2*v_2 + u_3*v_3)/(Abs(v_1)**2 + Abs(v_2)**2 + Abs(v_3)**2)],\n",
       "[v_3*(u_1*v_1 + u_2*v_2 + u_3*v_3)/(Abs(v_1)**2 + Abs(v_2)**2 + Abs(v_3)**2)]])"
      ]
     },
     "execution_count": 564,
     "metadata": {},
     "output_type": "execute_result"
    }
   ],
   "source": [
    "proj_v_u = u.dot(v) / v.norm()**2 * v\n",
    "proj_v_u"
   ]
  },
  {
   "cell_type": "markdown",
   "metadata": {},
   "source": [
    "## Lines/Planes in Space\n",
    "\n",
    "Lines: $\\vec{r}(t) = \\vec{r}_0 + t\\vec{v}$"
   ]
  },
  {
   "cell_type": "code",
   "execution_count": 565,
   "id": "2a6d9277",
   "metadata": {},
   "outputs": [
    {
     "data": {
      "text/latex": [
       "$\\displaystyle \\left[\\begin{matrix}t + 4\\\\3 t + 4\\\\5 - t\\end{matrix}\\right]$"
      ],
      "text/plain": [
       "Matrix([\n",
       "[  t + 4],\n",
       "[3*t + 4],\n",
       "[  5 - t]])"
      ]
     },
     "execution_count": 565,
     "metadata": {},
     "output_type": "execute_result"
    }
   ],
   "source": [
    "r0 = smp.Matrix([4,4,5])\n",
    "v = smp.Matrix([1,3,-1])\n",
    "r = r0 + t*v\n",
    "r"
   ]
  },
  {
   "cell_type": "markdown",
   "metadata": {},
   "source": [
    "Planes: $\\vec{n} \\cdot (P_0-\\left<x,y,z\\right>) = 0$"
   ]
  },
  {
   "cell_type": "code",
   "execution_count": 566,
   "id": "cdf42ad7",
   "metadata": {},
   "outputs": [
    {
     "data": {
      "text/latex": [
       "$\\displaystyle - x - y - z + 16$"
      ],
      "text/plain": [
       "-x - y - z + 16"
      ]
     },
     "execution_count": 566,
     "metadata": {},
     "output_type": "execute_result"
    }
   ],
   "source": [
    "p0 = smp.Matrix([4,4,8])\n",
    "r = smp.Matrix([x,y,z])\n",
    "n = smp.Matrix([1,1,1])\n",
    "n.dot(p0 - r)"
   ]
  },
  {
   "cell_type": "markdown",
   "metadata": {},
   "source": [
    "**Examples** Find vector parallel to the line of intersection of the two planes $3x-6y-2z = 15$ and $2x+y-2z=5$. (It's  going to be perpendicular to both normal vectors)"
   ]
  },
  {
   "cell_type": "code",
   "execution_count": 567,
   "id": "8fa54a84",
   "metadata": {},
   "outputs": [
    {
     "data": {
      "text/plain": [
       "array([14,  2, 15])"
      ]
     },
     "execution_count": 567,
     "metadata": {},
     "output_type": "execute_result"
    }
   ],
   "source": [
    "n1 = np.array([-3,6,2])\n",
    "n2 = np.array([-2,-1,2])\n",
    "ans = np.cross(n1, n2)\n",
    "ans"
   ]
  },
  {
   "cell_type": "markdown",
   "metadata": {},
   "source": [
    "# Vector Calculus"
   ]
  },
  {
   "cell_type": "markdown",
   "metadata": {},
   "source": [
    "## Vector Derivatives"
   ]
  },
  {
   "cell_type": "code",
   "execution_count": 568,
   "id": "af2ffeba",
   "metadata": {},
   "outputs": [
    {
     "data": {
      "text/latex": [
       "$\\displaystyle \\left[\\begin{matrix}3 t\\\\\\sin{\\left(t \\right)}\\\\t^{2}\\end{matrix}\\right]$"
      ],
      "text/plain": [
       "Matrix([\n",
       "[   3*t],\n",
       "[sin(t)],\n",
       "[  t**2]])"
      ]
     },
     "execution_count": 568,
     "metadata": {},
     "output_type": "execute_result"
    }
   ],
   "source": [
    "r, v, a = smp.symbols('r v a', cls=smp.Function)    # gotten error : AttributeError: 'ImmutableDenseNDimArray' object has no attribute 'as_coefficient'\n",
    "\n",
    "r = smp.Matrix([3*t, smp.sin(t), t**2])\n",
    "r"
   ]
  },
  {
   "cell_type": "code",
   "execution_count": 569,
   "id": "3be351ba",
   "metadata": {},
   "outputs": [
    {
     "data": {
      "text/latex": [
       "$\\displaystyle \\left[\\begin{matrix}3\\\\\\cos{\\left(t \\right)}\\\\2 t\\end{matrix}\\right]$"
      ],
      "text/plain": [
       "Matrix([\n",
       "[     3],\n",
       "[cos(t)],\n",
       "[   2*t]])"
      ]
     },
     "execution_count": 569,
     "metadata": {},
     "output_type": "execute_result"
    }
   ],
   "source": [
    "smp.diff(r, t)"
   ]
  },
  {
   "cell_type": "markdown",
   "metadata": {},
   "source": [
    "Example: Find the angle between the velocity and acceleration as a function of time $\\theta(t)$"
   ]
  },
  {
   "cell_type": "code",
   "execution_count": 570,
   "id": "77f686d2",
   "metadata": {},
   "outputs": [
    {
     "data": {
      "text/latex": [
       "$\\displaystyle \\left[\\begin{matrix}0\\\\- \\sin{\\left(t \\right)}\\\\2\\end{matrix}\\right]$"
      ],
      "text/plain": [
       "Matrix([\n",
       "[      0],\n",
       "[-sin(t)],\n",
       "[      2]])"
      ]
     },
     "execution_count": 570,
     "metadata": {},
     "output_type": "execute_result"
    }
   ],
   "source": [
    "v = smp.diff(r, t)\n",
    "a = smp.diff(v, t)\n",
    "a"
   ]
  },
  {
   "cell_type": "code",
   "execution_count": 571,
   "id": "f57b98a4",
   "metadata": {},
   "outputs": [],
   "source": [
    "# angle between two vectors is ... by definition of the dot product\n",
    "theta = smp.acos( v.dot(a) / (v.norm() * a.norm()) ).simplify()"
   ]
  },
  {
   "cell_type": "code",
   "execution_count": 572,
   "id": "ae0357b1",
   "metadata": {},
   "outputs": [
    {
     "data": {
      "text/latex": [
       "$\\displaystyle \\operatorname{acos}{\\left(\\frac{4 t - \\frac{\\sin{\\left(2 t \\right)}}{2}}{\\sqrt{\\left|{\\sin{\\left(t \\right)}}\\right|^{2} + 4} \\sqrt{4 \\left|{t}\\right|^{2} + \\left|{\\cos{\\left(t \\right)}}\\right|^{2} + 9}} \\right)}$"
      ],
      "text/plain": [
       "acos((4*t - sin(2*t)/2)/(sqrt(Abs(sin(t))**2 + 4)*sqrt(4*Abs(t)**2 + Abs(cos(t))**2 + 9)))"
      ]
     },
     "execution_count": 572,
     "metadata": {},
     "output_type": "execute_result"
    }
   ],
   "source": [
    "theta"
   ]
  },
  {
   "cell_type": "code",
   "execution_count": 573,
   "id": "f6e71465",
   "metadata": {},
   "outputs": [
    {
     "data": {
      "text/latex": [
       "$\\displaystyle 0.251108015692338$"
      ],
      "text/plain": [
       "0.251108015692338"
      ]
     },
     "execution_count": 573,
     "metadata": {},
     "output_type": "execute_result"
    }
   ],
   "source": [
    "theta.subs(t, 6).evalf()"
   ]
  },
  {
   "cell_type": "code",
   "execution_count": 574,
   "id": "ba5e3ad2",
   "metadata": {},
   "outputs": [
    {
     "name": "stdout",
     "output_type": "stream",
     "text": [
      "\u001b[1;31mSignature:\u001b[0m\n",
      "\u001b[0msmp\u001b[0m\u001b[1;33m.\u001b[0m\u001b[0mlambdify\u001b[0m\u001b[1;33m(\u001b[0m\u001b[1;33m\n",
      "\u001b[0m    \u001b[0margs\u001b[0m\u001b[1;33m,\u001b[0m\u001b[1;33m\n",
      "\u001b[0m    \u001b[0mexpr\u001b[0m\u001b[1;33m,\u001b[0m\u001b[1;33m\n",
      "\u001b[0m    \u001b[0mmodules\u001b[0m\u001b[1;33m=\u001b[0m\u001b[1;32mNone\u001b[0m\u001b[1;33m,\u001b[0m\u001b[1;33m\n",
      "\u001b[0m    \u001b[0mprinter\u001b[0m\u001b[1;33m=\u001b[0m\u001b[1;32mNone\u001b[0m\u001b[1;33m,\u001b[0m\u001b[1;33m\n",
      "\u001b[0m    \u001b[0muse_imps\u001b[0m\u001b[1;33m=\u001b[0m\u001b[1;32mTrue\u001b[0m\u001b[1;33m,\u001b[0m\u001b[1;33m\n",
      "\u001b[0m    \u001b[0mdummify\u001b[0m\u001b[1;33m=\u001b[0m\u001b[1;32mFalse\u001b[0m\u001b[1;33m,\u001b[0m\u001b[1;33m\n",
      "\u001b[0m    \u001b[0mcse\u001b[0m\u001b[1;33m=\u001b[0m\u001b[1;32mFalse\u001b[0m\u001b[1;33m,\u001b[0m\u001b[1;33m\n",
      "\u001b[0m    \u001b[0mdocstring_limit\u001b[0m\u001b[1;33m=\u001b[0m\u001b[1;36m1000\u001b[0m\u001b[1;33m,\u001b[0m\u001b[1;33m\n",
      "\u001b[0m\u001b[1;33m)\u001b[0m\u001b[1;33m\u001b[0m\u001b[1;33m\u001b[0m\u001b[0m\n",
      "\u001b[1;31mDocstring:\u001b[0m\n",
      "Convert a SymPy expression into a function that allows for fast\n",
      "numeric evaluation.\n",
      "\n",
      ".. warning::\n",
      "   This function uses ``exec``, and thus should not be used on\n",
      "   unsanitized input.\n",
      "\n",
      ".. deprecated:: 1.7\n",
      "   Passing a set for the *args* parameter is deprecated as sets are\n",
      "   unordered. Use an ordered iterable such as a list or tuple.\n",
      "\n",
      "Explanation\n",
      "===========\n",
      "\n",
      "For example, to convert the SymPy expression ``sin(x) + cos(x)`` to an\n",
      "equivalent NumPy function that numerically evaluates it:\n",
      "\n",
      ">>> from sympy import sin, cos, symbols, lambdify\n",
      ">>> import numpy as np\n",
      ">>> x = symbols('x')\n",
      ">>> expr = sin(x) + cos(x)\n",
      ">>> expr\n",
      "sin(x) + cos(x)\n",
      ">>> f = lambdify(x, expr, 'numpy')\n",
      ">>> a = np.array([1, 2])\n",
      ">>> f(a)\n",
      "[1.38177329 0.49315059]\n",
      "\n",
      "The primary purpose of this function is to provide a bridge from SymPy\n",
      "expressions to numerical libraries such as NumPy, SciPy, NumExpr, mpmath,\n",
      "and tensorflow. In general, SymPy functions do not work with objects from\n",
      "other libraries, such as NumPy arrays, and functions from numeric\n",
      "libraries like NumPy or mpmath do not work on SymPy expressions.\n",
      "``lambdify`` bridges the two by converting a SymPy expression to an\n",
      "equivalent numeric function.\n",
      "\n",
      "The basic workflow with ``lambdify`` is to first create a SymPy expression\n",
      "representing whatever mathematical function you wish to evaluate. This\n",
      "should be done using only SymPy functions and expressions. Then, use\n",
      "``lambdify`` to convert this to an equivalent function for numerical\n",
      "evaluation. For instance, above we created ``expr`` using the SymPy symbol\n",
      "``x`` and SymPy functions ``sin`` and ``cos``, then converted it to an\n",
      "equivalent NumPy function ``f``, and called it on a NumPy array ``a``.\n",
      "\n",
      "Parameters\n",
      "==========\n",
      "\n",
      "args : List[Symbol]\n",
      "    A variable or a list of variables whose nesting represents the\n",
      "    nesting of the arguments that will be passed to the function.\n",
      "\n",
      "    Variables can be symbols, undefined functions, or matrix symbols.\n",
      "\n",
      "    >>> from sympy import Eq\n",
      "    >>> from sympy.abc import x, y, z\n",
      "\n",
      "    The list of variables should match the structure of how the\n",
      "    arguments will be passed to the function. Simply enclose the\n",
      "    parameters as they will be passed in a list.\n",
      "\n",
      "    To call a function like ``f(x)`` then ``[x]``\n",
      "    should be the first argument to ``lambdify``; for this\n",
      "    case a single ``x`` can also be used:\n",
      "\n",
      "    >>> f = lambdify(x, x + 1)\n",
      "    >>> f(1)\n",
      "    2\n",
      "    >>> f = lambdify([x], x + 1)\n",
      "    >>> f(1)\n",
      "    2\n",
      "\n",
      "    To call a function like ``f(x, y)`` then ``[x, y]`` will\n",
      "    be the first argument of the ``lambdify``:\n",
      "\n",
      "    >>> f = lambdify([x, y], x + y)\n",
      "    >>> f(1, 1)\n",
      "    2\n",
      "\n",
      "    To call a function with a single 3-element tuple like\n",
      "    ``f((x, y, z))`` then ``[(x, y, z)]`` will be the first\n",
      "    argument of the ``lambdify``:\n",
      "\n",
      "    >>> f = lambdify([(x, y, z)], Eq(z**2, x**2 + y**2))\n",
      "    >>> f((3, 4, 5))\n",
      "    True\n",
      "\n",
      "    If two args will be passed and the first is a scalar but\n",
      "    the second is a tuple with two arguments then the items\n",
      "    in the list should match that structure:\n",
      "\n",
      "    >>> f = lambdify([x, (y, z)], x + y + z)\n",
      "    >>> f(1, (2, 3))\n",
      "    6\n",
      "\n",
      "expr : Expr\n",
      "    An expression, list of expressions, or matrix to be evaluated.\n",
      "\n",
      "    Lists may be nested.\n",
      "    If the expression is a list, the output will also be a list.\n",
      "\n",
      "    >>> f = lambdify(x, [x, [x + 1, x + 2]])\n",
      "    >>> f(1)\n",
      "    [1, [2, 3]]\n",
      "\n",
      "    If it is a matrix, an array will be returned (for the NumPy module).\n",
      "\n",
      "    >>> from sympy import Matrix\n",
      "    >>> f = lambdify(x, Matrix([x, x + 1]))\n",
      "    >>> f(1)\n",
      "    [[1]\n",
      "    [2]]\n",
      "\n",
      "    Note that the argument order here (variables then expression) is used\n",
      "    to emulate the Python ``lambda`` keyword. ``lambdify(x, expr)`` works\n",
      "    (roughly) like ``lambda x: expr``\n",
      "    (see :ref:`lambdify-how-it-works` below).\n",
      "\n",
      "modules : str, optional\n",
      "    Specifies the numeric library to use.\n",
      "\n",
      "    If not specified, *modules* defaults to:\n",
      "\n",
      "    - ``[\"scipy\", \"numpy\"]`` if SciPy is installed\n",
      "    - ``[\"numpy\"]`` if only NumPy is installed\n",
      "    - ``[\"math\", \"mpmath\", \"sympy\"]`` if neither is installed.\n",
      "\n",
      "    That is, SymPy functions are replaced as far as possible by\n",
      "    either ``scipy`` or ``numpy`` functions if available, and Python's\n",
      "    standard library ``math``, or ``mpmath`` functions otherwise.\n",
      "\n",
      "    *modules* can be one of the following types:\n",
      "\n",
      "    - The strings ``\"math\"``, ``\"mpmath\"``, ``\"numpy\"``, ``\"numexpr\"``,\n",
      "      ``\"scipy\"``, ``\"sympy\"``, or ``\"tensorflow\"`` or ``\"jax\"``. This uses the\n",
      "      corresponding printer and namespace mapping for that module.\n",
      "    - A module (e.g., ``math``). This uses the global namespace of the\n",
      "      module. If the module is one of the above known modules, it will\n",
      "      also use the corresponding printer and namespace mapping\n",
      "      (i.e., ``modules=numpy`` is equivalent to ``modules=\"numpy\"``).\n",
      "    - A dictionary that maps names of SymPy functions to arbitrary\n",
      "      functions\n",
      "      (e.g., ``{'sin': custom_sin}``).\n",
      "    - A list that contains a mix of the arguments above, with higher\n",
      "      priority given to entries appearing first\n",
      "      (e.g., to use the NumPy module but override the ``sin`` function\n",
      "      with a custom version, you can use\n",
      "      ``[{'sin': custom_sin}, 'numpy']``).\n",
      "\n",
      "dummify : bool, optional\n",
      "    Whether or not the variables in the provided expression that are not\n",
      "    valid Python identifiers are substituted with dummy symbols.\n",
      "\n",
      "    This allows for undefined functions like ``Function('f')(t)`` to be\n",
      "    supplied as arguments. By default, the variables are only dummified\n",
      "    if they are not valid Python identifiers.\n",
      "\n",
      "    Set ``dummify=True`` to replace all arguments with dummy symbols\n",
      "    (if ``args`` is not a string) - for example, to ensure that the\n",
      "    arguments do not redefine any built-in names.\n",
      "\n",
      "cse : bool, or callable, optional\n",
      "    Large expressions can be computed more efficiently when\n",
      "    common subexpressions are identified and precomputed before\n",
      "    being used multiple time. Finding the subexpressions will make\n",
      "    creation of the 'lambdify' function slower, however.\n",
      "\n",
      "    When ``True``, ``sympy.simplify.cse`` is used, otherwise (the default)\n",
      "    the user may pass a function matching the ``cse`` signature.\n",
      "\n",
      "docstring_limit : int or None\n",
      "    When lambdifying large expressions, a significant proportion of the time\n",
      "    spent inside ``lambdify`` is spent producing a string representation of\n",
      "    the expression for use in the automatically generated docstring of the\n",
      "    returned function. For expressions containing hundreds or more nodes the\n",
      "    resulting docstring often becomes so long and dense that it is difficult\n",
      "    to read. To reduce the runtime of lambdify, the rendering of the full\n",
      "    expression inside the docstring can be disabled.\n",
      "\n",
      "    When ``None``, the full expression is rendered in the docstring. When\n",
      "    ``0`` or a negative ``int``, an ellipsis is rendering in the docstring\n",
      "    instead of the expression. When a strictly positive ``int``, if the\n",
      "    number of nodes in the expression exceeds ``docstring_limit`` an\n",
      "    ellipsis is rendered in the docstring, otherwise a string representation\n",
      "    of the expression is rendered as normal. The default is ``1000``.\n",
      "\n",
      "Examples\n",
      "========\n",
      "\n",
      ">>> from sympy.utilities.lambdify import implemented_function\n",
      ">>> from sympy import sqrt, sin, Matrix\n",
      ">>> from sympy import Function\n",
      ">>> from sympy.abc import w, x, y, z\n",
      "\n",
      ">>> f = lambdify(x, x**2)\n",
      ">>> f(2)\n",
      "4\n",
      ">>> f = lambdify((x, y, z), [z, y, x])\n",
      ">>> f(1,2,3)\n",
      "[3, 2, 1]\n",
      ">>> f = lambdify(x, sqrt(x))\n",
      ">>> f(4)\n",
      "2.0\n",
      ">>> f = lambdify((x, y), sin(x*y)**2)\n",
      ">>> f(0, 5)\n",
      "0.0\n",
      ">>> row = lambdify((x, y), Matrix((x, x + y)).T, modules='sympy')\n",
      ">>> row(1, 2)\n",
      "Matrix([[1, 3]])\n",
      "\n",
      "``lambdify`` can be used to translate SymPy expressions into mpmath\n",
      "functions. This may be preferable to using ``evalf`` (which uses mpmath on\n",
      "the backend) in some cases.\n",
      "\n",
      ">>> f = lambdify(x, sin(x), 'mpmath')\n",
      ">>> f(1)\n",
      "0.8414709848078965\n",
      "\n",
      "Tuple arguments are handled and the lambdified function should\n",
      "be called with the same type of arguments as were used to create\n",
      "the function:\n",
      "\n",
      ">>> f = lambdify((x, (y, z)), x + y)\n",
      ">>> f(1, (2, 4))\n",
      "3\n",
      "\n",
      "The ``flatten`` function can be used to always work with flattened\n",
      "arguments:\n",
      "\n",
      ">>> from sympy.utilities.iterables import flatten\n",
      ">>> args = w, (x, (y, z))\n",
      ">>> vals = 1, (2, (3, 4))\n",
      ">>> f = lambdify(flatten(args), w + x + y + z)\n",
      ">>> f(*flatten(vals))\n",
      "10\n",
      "\n",
      "Functions present in ``expr`` can also carry their own numerical\n",
      "implementations, in a callable attached to the ``_imp_`` attribute. This\n",
      "can be used with undefined functions using the ``implemented_function``\n",
      "factory:\n",
      "\n",
      ">>> f = implemented_function(Function('f'), lambda x: x+1)\n",
      ">>> func = lambdify(x, f(x))\n",
      ">>> func(4)\n",
      "5\n",
      "\n",
      "``lambdify`` always prefers ``_imp_`` implementations to implementations\n",
      "in other namespaces, unless the ``use_imps`` input parameter is False.\n",
      "\n",
      "Usage with Tensorflow:\n",
      "\n",
      ">>> import tensorflow as tf\n",
      ">>> from sympy import Max, sin, lambdify\n",
      ">>> from sympy.abc import x\n",
      "\n",
      ">>> f = Max(x, sin(x))\n",
      ">>> func = lambdify(x, f, 'tensorflow')\n",
      "\n",
      "After tensorflow v2, eager execution is enabled by default.\n",
      "If you want to get the compatible result across tensorflow v1 and v2\n",
      "as same as this tutorial, run this line.\n",
      "\n",
      ">>> tf.compat.v1.enable_eager_execution()\n",
      "\n",
      "If you have eager execution enabled, you can get the result out\n",
      "immediately as you can use numpy.\n",
      "\n",
      "If you pass tensorflow objects, you may get an ``EagerTensor``\n",
      "object instead of value.\n",
      "\n",
      ">>> result = func(tf.constant(1.0))\n",
      ">>> print(result)\n",
      "tf.Tensor(1.0, shape=(), dtype=float32)\n",
      ">>> print(result.__class__)\n",
      "<class 'tensorflow.python.framework.ops.EagerTensor'>\n",
      "\n",
      "You can use ``.numpy()`` to get the numpy value of the tensor.\n",
      "\n",
      ">>> result.numpy()\n",
      "1.0\n",
      "\n",
      ">>> var = tf.Variable(2.0)\n",
      ">>> result = func(var) # also works for tf.Variable and tf.Placeholder\n",
      ">>> result.numpy()\n",
      "2.0\n",
      "\n",
      "And it works with any shape array.\n",
      "\n",
      ">>> tensor = tf.constant([[1.0, 2.0], [3.0, 4.0]])\n",
      ">>> result = func(tensor)\n",
      ">>> result.numpy()\n",
      "[[1. 2.]\n",
      " [3. 4.]]\n",
      "\n",
      "Notes\n",
      "=====\n",
      "\n",
      "- For functions involving large array calculations, numexpr can provide a\n",
      "  significant speedup over numpy. Please note that the available functions\n",
      "  for numexpr are more limited than numpy but can be expanded with\n",
      "  ``implemented_function`` and user defined subclasses of Function. If\n",
      "  specified, numexpr may be the only option in modules. The official list\n",
      "  of numexpr functions can be found at:\n",
      "  https://numexpr.readthedocs.io/projects/NumExpr3/en/latest/user_guide.html#supported-functions\n",
      "\n",
      "- In the above examples, the generated functions can accept scalar\n",
      "  values or numpy arrays as arguments.  However, in some cases\n",
      "  the generated function relies on the input being a numpy array:\n",
      "\n",
      "  >>> import numpy\n",
      "  >>> from sympy import Piecewise\n",
      "  >>> from sympy.testing.pytest import ignore_warnings\n",
      "  >>> f = lambdify(x, Piecewise((x, x <= 1), (1/x, x > 1)), \"numpy\")\n",
      "\n",
      "  >>> with ignore_warnings(RuntimeWarning):\n",
      "  ...     f(numpy.array([-1, 0, 1, 2]))\n",
      "  [-1.   0.   1.   0.5]\n",
      "\n",
      "  >>> f(0)\n",
      "  Traceback (most recent call last):\n",
      "      ...\n",
      "  ZeroDivisionError: division by zero\n",
      "\n",
      "  In such cases, the input should be wrapped in a numpy array:\n",
      "\n",
      "  >>> with ignore_warnings(RuntimeWarning):\n",
      "  ...     float(f(numpy.array([0])))\n",
      "  0.0\n",
      "\n",
      "  Or if numpy functionality is not required another module can be used:\n",
      "\n",
      "  >>> f = lambdify(x, Piecewise((x, x <= 1), (1/x, x > 1)), \"math\")\n",
      "  >>> f(0)\n",
      "  0\n",
      "\n",
      ".. _lambdify-how-it-works:\n",
      "\n",
      "How it works\n",
      "============\n",
      "\n",
      "When using this function, it helps a great deal to have an idea of what it\n",
      "is doing. At its core, lambdify is nothing more than a namespace\n",
      "translation, on top of a special printer that makes some corner cases work\n",
      "properly.\n",
      "\n",
      "To understand lambdify, first we must properly understand how Python\n",
      "namespaces work. Say we had two files. One called ``sin_cos_sympy.py``,\n",
      "with\n",
      "\n",
      ".. code:: python\n",
      "\n",
      "    # sin_cos_sympy.py\n",
      "\n",
      "    from sympy.functions.elementary.trigonometric import (cos, sin)\n",
      "\n",
      "    def sin_cos(x):\n",
      "        return sin(x) + cos(x)\n",
      "\n",
      "\n",
      "and one called ``sin_cos_numpy.py`` with\n",
      "\n",
      ".. code:: python\n",
      "\n",
      "    # sin_cos_numpy.py\n",
      "\n",
      "    from numpy import sin, cos\n",
      "\n",
      "    def sin_cos(x):\n",
      "        return sin(x) + cos(x)\n",
      "\n",
      "The two files define an identical function ``sin_cos``. However, in the\n",
      "first file, ``sin`` and ``cos`` are defined as the SymPy ``sin`` and\n",
      "``cos``. In the second, they are defined as the NumPy versions.\n",
      "\n",
      "If we were to import the first file and use the ``sin_cos`` function, we\n",
      "would get something like\n",
      "\n",
      ">>> from sin_cos_sympy import sin_cos # doctest: +SKIP\n",
      ">>> sin_cos(1) # doctest: +SKIP\n",
      "cos(1) + sin(1)\n",
      "\n",
      "On the other hand, if we imported ``sin_cos`` from the second file, we\n",
      "would get\n",
      "\n",
      ">>> from sin_cos_numpy import sin_cos # doctest: +SKIP\n",
      ">>> sin_cos(1) # doctest: +SKIP\n",
      "1.38177329068\n",
      "\n",
      "In the first case we got a symbolic output, because it used the symbolic\n",
      "``sin`` and ``cos`` functions from SymPy. In the second, we got a numeric\n",
      "result, because ``sin_cos`` used the numeric ``sin`` and ``cos`` functions\n",
      "from NumPy. But notice that the versions of ``sin`` and ``cos`` that were\n",
      "used was not inherent to the ``sin_cos`` function definition. Both\n",
      "``sin_cos`` definitions are exactly the same. Rather, it was based on the\n",
      "names defined at the module where the ``sin_cos`` function was defined.\n",
      "\n",
      "The key point here is that when function in Python references a name that\n",
      "is not defined in the function, that name is looked up in the \"global\"\n",
      "namespace of the module where that function is defined.\n",
      "\n",
      "Now, in Python, we can emulate this behavior without actually writing a\n",
      "file to disk using the ``exec`` function. ``exec`` takes a string\n",
      "containing a block of Python code, and a dictionary that should contain\n",
      "the global variables of the module. It then executes the code \"in\" that\n",
      "dictionary, as if it were the module globals. The following is equivalent\n",
      "to the ``sin_cos`` defined in ``sin_cos_sympy.py``:\n",
      "\n",
      ">>> import sympy\n",
      ">>> module_dictionary = {'sin': sympy.sin, 'cos': sympy.cos}\n",
      ">>> exec('''\n",
      "... def sin_cos(x):\n",
      "...     return sin(x) + cos(x)\n",
      "... ''', module_dictionary)\n",
      ">>> sin_cos = module_dictionary['sin_cos']\n",
      ">>> sin_cos(1)\n",
      "cos(1) + sin(1)\n",
      "\n",
      "and similarly with ``sin_cos_numpy``:\n",
      "\n",
      ">>> import numpy\n",
      ">>> module_dictionary = {'sin': numpy.sin, 'cos': numpy.cos}\n",
      ">>> exec('''\n",
      "... def sin_cos(x):\n",
      "...     return sin(x) + cos(x)\n",
      "... ''', module_dictionary)\n",
      ">>> sin_cos = module_dictionary['sin_cos']\n",
      ">>> sin_cos(1)\n",
      "1.38177329068\n",
      "\n",
      "So now we can get an idea of how ``lambdify`` works. The name \"lambdify\"\n",
      "comes from the fact that we can think of something like ``lambdify(x,\n",
      "sin(x) + cos(x), 'numpy')`` as ``lambda x: sin(x) + cos(x)``, where\n",
      "``sin`` and ``cos`` come from the ``numpy`` namespace. This is also why\n",
      "the symbols argument is first in ``lambdify``, as opposed to most SymPy\n",
      "functions where it comes after the expression: to better mimic the\n",
      "``lambda`` keyword.\n",
      "\n",
      "``lambdify`` takes the input expression (like ``sin(x) + cos(x)``) and\n",
      "\n",
      "1. Converts it to a string\n",
      "2. Creates a module globals dictionary based on the modules that are\n",
      "   passed in (by default, it uses the NumPy module)\n",
      "3. Creates the string ``\"def func({vars}): return {expr}\"``, where ``{vars}`` is the\n",
      "   list of variables separated by commas, and ``{expr}`` is the string\n",
      "   created in step 1., then ``exec``s that string with the module globals\n",
      "   namespace and returns ``func``.\n",
      "\n",
      "In fact, functions returned by ``lambdify`` support inspection. So you can\n",
      "see exactly how they are defined by using ``inspect.getsource``, or ``??`` if you\n",
      "are using IPython or the Jupyter notebook.\n",
      "\n",
      ">>> f = lambdify(x, sin(x) + cos(x))\n",
      ">>> import inspect\n",
      ">>> print(inspect.getsource(f))\n",
      "def _lambdifygenerated(x):\n",
      "    return sin(x) + cos(x)\n",
      "\n",
      "This shows us the source code of the function, but not the namespace it\n",
      "was defined in. We can inspect that by looking at the ``__globals__``\n",
      "attribute of ``f``:\n",
      "\n",
      ">>> f.__globals__['sin']\n",
      "<ufunc 'sin'>\n",
      ">>> f.__globals__['cos']\n",
      "<ufunc 'cos'>\n",
      ">>> f.__globals__['sin'] is numpy.sin\n",
      "True\n",
      "\n",
      "This shows us that ``sin`` and ``cos`` in the namespace of ``f`` will be\n",
      "``numpy.sin`` and ``numpy.cos``.\n",
      "\n",
      "Note that there are some convenience layers in each of these steps, but at\n",
      "the core, this is how ``lambdify`` works. Step 1 is done using the\n",
      "``LambdaPrinter`` printers defined in the printing module (see\n",
      ":mod:`sympy.printing.lambdarepr`). This allows different SymPy expressions\n",
      "to define how they should be converted to a string for different modules.\n",
      "You can change which printer ``lambdify`` uses by passing a custom printer\n",
      "in to the ``printer`` argument.\n",
      "\n",
      "Step 2 is augmented by certain translations. There are default\n",
      "translations for each module, but you can provide your own by passing a\n",
      "list to the ``modules`` argument. For instance,\n",
      "\n",
      ">>> def mysin(x):\n",
      "...     print('taking the sin of', x)\n",
      "...     return numpy.sin(x)\n",
      "...\n",
      ">>> f = lambdify(x, sin(x), [{'sin': mysin}, 'numpy'])\n",
      ">>> f(1)\n",
      "taking the sin of 1\n",
      "0.8414709848078965\n",
      "\n",
      "The globals dictionary is generated from the list by merging the\n",
      "dictionary ``{'sin': mysin}`` and the module dictionary for NumPy. The\n",
      "merging is done so that earlier items take precedence, which is why\n",
      "``mysin`` is used above instead of ``numpy.sin``.\n",
      "\n",
      "If you want to modify the way ``lambdify`` works for a given function, it\n",
      "is usually easiest to do so by modifying the globals dictionary as such.\n",
      "In more complicated cases, it may be necessary to create and pass in a\n",
      "custom printer.\n",
      "\n",
      "Finally, step 3 is augmented with certain convenience operations, such as\n",
      "the addition of a docstring.\n",
      "\n",
      "Understanding how ``lambdify`` works can make it easier to avoid certain\n",
      "gotchas when using it. For instance, a common mistake is to create a\n",
      "lambdified function for one module (say, NumPy), and pass it objects from\n",
      "another (say, a SymPy expression).\n",
      "\n",
      "For instance, say we create\n",
      "\n",
      ">>> from sympy.abc import x\n",
      ">>> f = lambdify(x, x + 1, 'numpy')\n",
      "\n",
      "Now if we pass in a NumPy array, we get that array plus 1\n",
      "\n",
      ">>> import numpy\n",
      ">>> a = numpy.array([1, 2])\n",
      ">>> f(a)\n",
      "[2 3]\n",
      "\n",
      "But what happens if you make the mistake of passing in a SymPy expression\n",
      "instead of a NumPy array:\n",
      "\n",
      ">>> f(x + 1)\n",
      "x + 2\n",
      "\n",
      "This worked, but it was only by accident. Now take a different lambdified\n",
      "function:\n",
      "\n",
      ">>> from sympy import sin\n",
      ">>> g = lambdify(x, x + sin(x), 'numpy')\n",
      "\n",
      "This works as expected on NumPy arrays:\n",
      "\n",
      ">>> g(a)\n",
      "[1.84147098 2.90929743]\n",
      "\n",
      "But if we try to pass in a SymPy expression, it fails\n",
      "\n",
      ">>> try:\n",
      "...     g(x + 1)\n",
      "... # NumPy release after 1.17 raises TypeError instead of\n",
      "... # AttributeError\n",
      "... except (AttributeError, TypeError):\n",
      "...     raise AttributeError() # doctest: +IGNORE_EXCEPTION_DETAIL\n",
      "Traceback (most recent call last):\n",
      "...\n",
      "AttributeError:\n",
      "\n",
      "Now, let's look at what happened. The reason this fails is that ``g``\n",
      "calls ``numpy.sin`` on the input expression, and ``numpy.sin`` does not\n",
      "know how to operate on a SymPy object. **As a general rule, NumPy\n",
      "functions do not know how to operate on SymPy expressions, and SymPy\n",
      "functions do not know how to operate on NumPy arrays. This is why lambdify\n",
      "exists: to provide a bridge between SymPy and NumPy.**\n",
      "\n",
      "However, why is it that ``f`` did work? That's because ``f`` does not call\n",
      "any functions, it only adds 1. So the resulting function that is created,\n",
      "``def _lambdifygenerated(x): return x + 1`` does not depend on the globals\n",
      "namespace it is defined in. Thus it works, but only by accident. A future\n",
      "version of ``lambdify`` may remove this behavior.\n",
      "\n",
      "Be aware that certain implementation details described here may change in\n",
      "future versions of SymPy. The API of passing in custom modules and\n",
      "printers will not change, but the details of how a lambda function is\n",
      "created may change. However, the basic idea will remain the same, and\n",
      "understanding it will be helpful to understanding the behavior of\n",
      "lambdify.\n",
      "\n",
      "**In general: you should create lambdified functions for one module (say,\n",
      "NumPy), and only pass it input types that are compatible with that module\n",
      "(say, NumPy arrays).** Remember that by default, if the ``module``\n",
      "argument is not provided, ``lambdify`` creates functions using the NumPy\n",
      "and SciPy namespaces.\n",
      "\u001b[1;31mFile:\u001b[0m      c:\\users\\sheuh\\appdata\\local\\packages\\pythonsoftwarefoundation.python.3.11_qbz5n2kfra8p0\\localcache\\local-packages\\python311\\site-packages\\sympy\\utilities\\lambdify.py\n",
      "\u001b[1;31mType:\u001b[0m      function"
     ]
    }
   ],
   "source": [
    "smp.lambdify?"
   ]
  },
  {
   "cell_type": "code",
   "execution_count": 575,
   "id": "460b7706",
   "metadata": {},
   "outputs": [
    {
     "data": {
      "text/plain": [
       "0.25110801569233787"
      ]
     },
     "execution_count": 575,
     "metadata": {},
     "output_type": "execute_result"
    }
   ],
   "source": [
    "f = smp.lambdify(t, theta)\n",
    "f(6)"
   ]
  },
  {
   "cell_type": "code",
   "execution_count": 576,
   "id": "dc6b4620",
   "metadata": {},
   "outputs": [
    {
     "data": {
      "image/png": "[encoded data removed]",
      "text/plain": [
       "<Figure size 640x480 with 1 Axes>"
      ]
     },
     "metadata": {},
     "output_type": "display_data"
    }
   ],
   "source": [
    "tt = np.linspace(0, 10, 100)\n",
    "aa = smp.lambdify([t], theta)(tt)\n",
    "plt.plot(tt, aa)\n",
    "plt.xlabel('$t$', fontsize=20)\n",
    "plt.ylabel(r'$\\theta(t)$', fontsize=20)\n",
    "plt.show()"
   ]
  },
  {
   "cell_type": "markdown",
   "metadata": {},
   "source": [
    "## Vector Integrals"
   ]
  },
  {
   "cell_type": "markdown",
   "metadata": {},
   "source": [
    "Note: Will not add the +C"
   ]
  },
  {
   "cell_type": "code",
   "execution_count": 577,
   "id": "8248d6fa",
   "metadata": {},
   "outputs": [
    {
     "data": {
      "text/latex": [
       "$\\displaystyle \\left[\\begin{matrix}e^{t} \\cos{\\left(t \\right)}\\\\t^{4}\\\\\\frac{1}{t^{2} + 1}\\end{matrix}\\right]$"
      ],
      "text/plain": [
       "Matrix([\n",
       "[exp(t)*cos(t)],\n",
       "[         t**4],\n",
       "[ 1/(t**2 + 1)]])"
      ]
     },
     "execution_count": 577,
     "metadata": {},
     "output_type": "execute_result"
    }
   ],
   "source": [
    "r = smp.Matrix([smp.exp(t)*smp.cos(t), t**4, 1/(1+t**2)])\n",
    "r"
   ]
  },
  {
   "cell_type": "code",
   "execution_count": 578,
   "id": "0e0336c9",
   "metadata": {},
   "outputs": [
    {
     "data": {
      "text/latex": [
       "$\\displaystyle \\left[\\begin{matrix}\\frac{\\sqrt{2} e^{t} \\sin{\\left(t + \\frac{\\pi}{4} \\right)}}{2}\\\\\\frac{t^{5}}{5}\\\\\\operatorname{atan}{\\left(t \\right)}\\end{matrix}\\right]$"
      ],
      "text/plain": [
       "Matrix([\n",
       "[sqrt(2)*exp(t)*sin(t + pi/4)/2],\n",
       "[                        t**5/5],\n",
       "[                       atan(t)]])"
      ]
     },
     "execution_count": 578,
     "metadata": {},
     "output_type": "execute_result"
    }
   ],
   "source": [
    "smp.Integral(r).doit().simplify()"
   ]
  },
  {
   "cell_type": "markdown",
   "metadata": {},
   "source": [
    "In some cases integral cannot be evaluated symbolically: must solve definite integrals numerically:"
   ]
  },
  {
   "cell_type": "code",
   "execution_count": 579,
   "id": "baaa3604",
   "metadata": {},
   "outputs": [
    {
     "data": {
      "text/latex": [
       "$\\displaystyle \\left[\\begin{matrix}e^{t^{2}} \\cos^{3}{\\left(t \\right)}\\\\e^{- t^{4}}\\\\\\frac{1}{t^{2} + 3}\\end{matrix}\\right]$"
      ],
      "text/plain": [
       "Matrix([\n",
       "[exp(t**2)*cos(t)**3],\n",
       "[         exp(-t**4)],\n",
       "[       1/(t**2 + 3)]])"
      ]
     },
     "execution_count": 579,
     "metadata": {},
     "output_type": "execute_result"
    }
   ],
   "source": [
    "r = smp.Matrix([smp.exp(t**2)*smp.cos(t)**3, smp.exp(-t**4), 1/(t**2+3)])\n",
    "r"
   ]
  },
  {
   "cell_type": "code",
   "execution_count": 580,
   "id": "dc594cca",
   "metadata": {},
   "outputs": [
    {
     "data": {
      "text/latex": [
       "$\\displaystyle \\left[\\begin{matrix}\\int e^{t^{2}} \\cos^{3}{\\left(t \\right)}\\, dt\\\\\\frac{\\Gamma\\left(\\frac{1}{4}\\right) \\gamma\\left(\\frac{1}{4}, t^{4}\\right)}{16 \\Gamma\\left(\\frac{5}{4}\\right)}\\\\\\frac{\\sqrt{3} \\operatorname{atan}{\\left(\\frac{\\sqrt{3} t}{3} \\right)}}{3}\\end{matrix}\\right]$"
      ],
      "text/plain": [
       "Matrix([\n",
       "[                Integral(exp(t**2)*cos(t)**3, t)],\n",
       "[gamma(1/4)*lowergamma(1/4, t**4)/(16*gamma(5/4))],\n",
       "[                     sqrt(3)*atan(sqrt(3)*t/3)/3]])"
      ]
     },
     "execution_count": 580,
     "metadata": {},
     "output_type": "execute_result"
    }
   ],
   "source": [
    "smp.Integral(r).doit()      # there is no antiderivative to this function, Only numerically is possible "
   ]
  },
  {
   "cell_type": "markdown",
   "metadata": {},
   "source": [
    "Integrate from $t=0$ to $t=4$"
   ]
  },
  {
   "cell_type": "code",
   "execution_count": 581,
   "id": "e41e784a",
   "metadata": {},
   "outputs": [],
   "source": [
    "r_num = smp.lambdify(t, r)"
   ]
  },
  {
   "cell_type": "code",
   "execution_count": 582,
   "id": "3a2ea3e8",
   "metadata": {},
   "outputs": [
    {
     "data": {
      "text/plain": [
       "array([[-4.83559254e+05],\n",
       "       [ 9.06402477e-01],\n",
       "       [ 6.70972506e-01]])"
      ]
     },
     "execution_count": 582,
     "metadata": {},
     "output_type": "execute_result"
    }
   ],
   "source": [
    "quad_vec(r_num, 0,4)        # integrating vector function\n",
    "quad_vec(r_num, 0,4)[0]  "
   ]
  },
  {
   "cell_type": "markdown",
   "metadata": {},
   "source": [
    "## Arclength\n",
    "\n",
    "$$L = \\int_a^b \\sqrt{dx^2 + dy^2 + dz^2} = \\int_a^b \\sqrt{(dx/dt)^2 + (dy/dt)^2 + (dz/dt)^2 } dt $$"
   ]
  },
  {
   "cell_type": "markdown",
   "metadata": {},
   "source": [
    "Rare Cases can be done symbolically. Find arclength of $\\left< 0, t, t^2 \\right>$ from $t=0$ to $t=1$"
   ]
  },
  {
   "cell_type": "code",
   "execution_count": 583,
   "id": "05fcab23",
   "metadata": {},
   "outputs": [
    {
     "data": {
      "text/latex": [
       "$\\displaystyle \\left[\\begin{matrix}0\\\\t\\\\t^{2}\\end{matrix}\\right]$"
      ],
      "text/plain": [
       "Matrix([\n",
       "[   0],\n",
       "[   t],\n",
       "[t**2]])"
      ]
     },
     "execution_count": 583,
     "metadata": {},
     "output_type": "execute_result"
    }
   ],
   "source": [
    "r = smp.Matrix([0,t,t**2])\n",
    "r"
   ]
  },
  {
   "cell_type": "code",
   "execution_count": 584,
   "id": "e9241526",
   "metadata": {},
   "outputs": [
    {
     "data": {
      "text/latex": [
       "$\\displaystyle \\sqrt{4 \\left|{t}\\right|^{2} + 1}$"
      ],
      "text/plain": [
       "sqrt(4*Abs(t)**2 + 1)"
      ]
     },
     "execution_count": 584,
     "metadata": {},
     "output_type": "execute_result"
    }
   ],
   "source": [
    "# norm of drdt: \n",
    "smp.diff(r, t).norm()"
   ]
  },
  {
   "cell_type": "code",
   "execution_count": 585,
   "id": "1f950977",
   "metadata": {},
   "outputs": [
    {
     "data": {
      "text/latex": [
       "$\\displaystyle \\int \\sqrt{4 \\left|{t}\\right|^{2} + 1}\\, dt$"
      ],
      "text/plain": [
       "Integral(sqrt(4*Abs(t)**2 + 1), t)"
      ]
     },
     "execution_count": 585,
     "metadata": {},
     "output_type": "execute_result"
    }
   ],
   "source": [
    "smp.integrate(smp.diff(r, t).norm(), t)"
   ]
  },
  {
   "cell_type": "code",
   "execution_count": 586,
   "id": "5ece16af",
   "metadata": {},
   "outputs": [
    {
     "data": {
      "text/latex": [
       "$\\displaystyle \\frac{\\operatorname{asinh}{\\left(2 \\right)}}{4} + \\frac{\\sqrt{5}}{2}$"
      ],
      "text/plain": [
       "asinh(2)/4 + sqrt(5)/2"
      ]
     },
     "execution_count": 586,
     "metadata": {},
     "output_type": "execute_result"
    }
   ],
   "source": [
    "smp.integrate(smp.diff(r, t).norm(), (t,0,1))"
   ]
  },
  {
   "cell_type": "markdown",
   "metadata": {},
   "source": [
    "In most cases needs to be done numerically. Find arclength of $\\left< e^t, \\sin(t), t^4 \\right>$ from $t=0$ to $t=1$"
   ]
  },
  {
   "cell_type": "code",
   "execution_count": 587,
   "id": "6764ecb8",
   "metadata": {},
   "outputs": [
    {
     "data": {
      "text/latex": [
       "$\\displaystyle \\left[\\begin{matrix}e^{t}\\\\\\sin{\\left(t \\right)}\\\\t^{4}\\end{matrix}\\right]$"
      ],
      "text/plain": [
       "Matrix([\n",
       "[exp(t)],\n",
       "[sin(t)],\n",
       "[  t**4]])"
      ]
     },
     "execution_count": 587,
     "metadata": {},
     "output_type": "execute_result"
    }
   ],
   "source": [
    "r = smp.Matrix([smp.exp(t), smp.sin(t), t**4])\n",
    "r"
   ]
  },
  {
   "cell_type": "code",
   "execution_count": 588,
   "id": "4c39c982",
   "metadata": {},
   "outputs": [
    {
     "data": {
      "text/plain": [
       "<function _lambdifygenerated(t)>"
      ]
     },
     "execution_count": 588,
     "metadata": {},
     "output_type": "execute_result"
    }
   ],
   "source": [
    "r_num = smp.lambdify([t], smp.diff(r, t).norm())\n",
    "r_num"
   ]
  },
  {
   "cell_type": "code",
   "execution_count": 589,
   "id": "fd161119",
   "metadata": {},
   "outputs": [
    {
     "data": {
      "text/plain": [
       "2.316977146444862"
      ]
     },
     "execution_count": 589,
     "metadata": {},
     "output_type": "execute_result"
    }
   ],
   "source": [
    "quad(r_num, 0, 1)[0]"
   ]
  },
  {
   "cell_type": "markdown",
   "metadata": {},
   "source": [
    "## Other Relavent Quantities\n",
    "\n",
    "If $ds = \\sqrt{dx^2 + dy^2 + dz^2}$ is the arclength element $ds/dt = \\sqrt{(dx/dt)^2 + (dy/dt)^2 + (dz/dt)^2 } = |d\\vec{r}/dt| = |\\vec{v}|$ then the other quantities of importance are"
   ]
  },
  {
   "cell_type": "markdown",
   "metadata": {},
   "source": [
    "* Unit Tangent vector: $\\vec{T} = \\frac{d\\vec{r}}{dt}\\frac{1}{|d\\vec{r}/dt|} = \\vec{v}/|\\vec{v}|$ \n",
    "* Curvature: $\\kappa = |\\frac{d\\vec{T}}{dt}|\\frac{1}{|\\vec{v}|}$\n",
    "* Unit normal vector to Curve: $\\vec{N} = \\frac{d\\vec{T}/dt}{|d\\vec{T}/dt|}$"
   ]
  },
  {
   "cell_type": "markdown",
   "metadata": {},
   "source": [
    "**Example** Find all these for $\\vec{r}(t) = \\left<a\\cos(t)e^t, b\\sin(t), ct\\right>$"
   ]
  },
  {
   "cell_type": "code",
   "execution_count": 590,
   "id": "9b08d105",
   "metadata": {},
   "outputs": [],
   "source": [
    "t, a, b, c = smp.symbols('t a b c', pos=True, real=True)"
   ]
  },
  {
   "cell_type": "markdown",
   "metadata": {},
   "source": [
    "Define the path"
   ]
  },
  {
   "cell_type": "code",
   "execution_count": 591,
   "id": "10d44850",
   "metadata": {},
   "outputs": [
    {
     "data": {
      "text/latex": [
       "$\\displaystyle \\left[\\begin{matrix}a e^{t} \\cos{\\left(t \\right)}\\\\b \\sin{\\left(t \\right)}\\\\c t\\end{matrix}\\right]$"
      ],
      "text/plain": [
       "Matrix([\n",
       "[a*exp(t)*cos(t)],\n",
       "[       b*sin(t)],\n",
       "[            c*t]])"
      ]
     },
     "execution_count": 591,
     "metadata": {},
     "output_type": "execute_result"
    }
   ],
   "source": [
    "r = smp.Matrix([a*smp.cos(t)*smp.exp(t), b*smp.sin(t), c*t])\n",
    "r"
   ]
  },
  {
   "cell_type": "markdown",
   "metadata": {},
   "source": [
    "Define the velocity vector $\\vec{v}$ and speed $|\\vec{v}|$"
   ]
  },
  {
   "cell_type": "code",
   "execution_count": 592,
   "id": "4f696639",
   "metadata": {},
   "outputs": [
    {
     "data": {
      "text/latex": [
       "$\\displaystyle \\sqrt{b^{2} \\cos^{2}{\\left(t \\right)} + c^{2} + \\left(a e^{t} \\sin{\\left(t \\right)} - a e^{t} \\cos{\\left(t \\right)}\\right)^{2}}$"
      ],
      "text/plain": [
       "sqrt(b**2*cos(t)**2 + c**2 + (a*exp(t)*sin(t) - a*exp(t)*cos(t))**2)"
      ]
     },
     "execution_count": 592,
     "metadata": {},
     "output_type": "execute_result"
    }
   ],
   "source": [
    "v = smp.diff(r, t)\n",
    "v_norm = v.norm()\n",
    "v_norm"
   ]
  },
  {
   "cell_type": "markdown",
   "metadata": {},
   "source": [
    "Get $\\vec{T}$, $\\kappa$, and $\\vec{N}$"
   ]
  },
  {
   "cell_type": "code",
   "execution_count": 593,
   "id": "f827b0cf",
   "metadata": {},
   "outputs": [],
   "source": [
    "T = v/v_norm\n",
    "kappa = smp.diff(T, t).norm() / v_norm\n",
    "N = smp.diff(T, t) / smp.diff(T, t).norm()"
   ]
  },
  {
   "cell_type": "markdown",
   "metadata": {},
   "source": [
    "Can evaluate these quantities or make plots"
   ]
  },
  {
   "cell_type": "code",
   "execution_count": 594,
   "id": "35b73451",
   "metadata": {},
   "outputs": [
    {
     "data": {
      "text/latex": [
       "$\\displaystyle 0.00775458595406284$"
      ],
      "text/plain": [
       "0.00775458595406284"
      ]
     },
     "execution_count": 594,
     "metadata": {},
     "output_type": "execute_result"
    }
   ],
   "source": [
    "kappa.subs([(t,2),(a,3),(b,4),(c,5)]).evalf()"
   ]
  },
  {
   "cell_type": "code",
   "execution_count": 595,
   "id": "df29c515",
   "metadata": {},
   "outputs": [
    {
     "data": {
      "text/latex": [
       "$\\displaystyle \\left[\\begin{matrix}-0.152946073876551\\\\-0.204518432770271\\\\-0.966840063890063\\end{matrix}\\right]$"
      ],
      "text/plain": [
       "Matrix([\n",
       "[-0.152946073876551],\n",
       "[-0.204518432770271],\n",
       "[-0.966840063890063]])"
      ]
     },
     "execution_count": 595,
     "metadata": {},
     "output_type": "execute_result"
    }
   ],
   "source": [
    "N.subs([(t,2),(a,3),(b,4),(c,5)]).evalf()"
   ]
  },
  {
   "cell_type": "markdown",
   "metadata": {},
   "source": [
    "Can also make continuous plots"
   ]
  },
  {
   "cell_type": "code",
   "execution_count": 596,
   "id": "8b1cb546",
   "metadata": {},
   "outputs": [],
   "source": [
    "kappa_num = smp.lambdify([t,a,b,c], kappa)"
   ]
  },
  {
   "cell_type": "code",
   "execution_count": 597,
   "id": "d28f3447",
   "metadata": {},
   "outputs": [
    {
     "data": {
      "image/png": "[encoded data removed]",
      "text/plain": [
       "<Figure size 640x480 with 1 Axes>"
      ]
     },
     "metadata": {},
     "output_type": "display_data"
    }
   ],
   "source": [
    "tt = np.linspace(0 ,2, 100)\n",
    "kk = kappa_num(tt, 1, 2, 3)\n",
    "plt.plot(tt, kk)\n",
    "plt.xlabel('$t$', fontsize=20)\n",
    "plt.ylabel('$\\kappa(t)$', fontsize=20)\n",
    "plt.show()"
   ]
  },
  {
   "cell_type": "markdown",
   "metadata": {},
   "source": [
    "# Partial/Directional Derivatives"
   ]
  },
  {
   "cell_type": "code",
   "execution_count": 598,
   "id": "9c265c3e",
   "metadata": {},
   "outputs": [],
   "source": [
    "x, y, z = smp.symbols('x y z')"
   ]
  },
  {
   "cell_type": "markdown",
   "metadata": {},
   "source": [
    "## Basics"
   ]
  },
  {
   "cell_type": "markdown",
   "metadata": {},
   "source": [
    "Partial Derivatives $\\partial f / \\partial x$ and $\\partial f / \\partial y$ of $f(x,y)=y^2\\sin(x+y)$"
   ]
  },
  {
   "cell_type": "code",
   "execution_count": 599,
   "id": "cf6c69d8",
   "metadata": {},
   "outputs": [
    {
     "data": {
      "text/latex": [
       "$\\displaystyle y^{2} \\sin{\\left(x + y \\right)}$"
      ],
      "text/plain": [
       "y**2*sin(x + y)"
      ]
     },
     "execution_count": 599,
     "metadata": {},
     "output_type": "execute_result"
    }
   ],
   "source": [
    "f = y**2 * smp.sin(x+y)\n",
    "f"
   ]
  },
  {
   "cell_type": "code",
   "execution_count": 600,
   "id": "53d844fb",
   "metadata": {},
   "outputs": [
    {
     "data": {
      "text/latex": [
       "$\\displaystyle y^{2} \\cos{\\left(x + y \\right)}$"
      ],
      "text/plain": [
       "y**2*cos(x + y)"
      ]
     },
     "execution_count": 600,
     "metadata": {},
     "output_type": "execute_result"
    }
   ],
   "source": [
    "smp.diff(f, x)"
   ]
  },
  {
   "cell_type": "code",
   "execution_count": 601,
   "id": "c5c719ba",
   "metadata": {},
   "outputs": [
    {
     "data": {
      "text/latex": [
       "$\\displaystyle y^{2} \\cos{\\left(x + y \\right)} + 2 y \\sin{\\left(x + y \\right)}$"
      ],
      "text/plain": [
       "y**2*cos(x + y) + 2*y*sin(x + y)"
      ]
     },
     "execution_count": 601,
     "metadata": {},
     "output_type": "execute_result"
    }
   ],
   "source": [
    "smp.diff(f, y)"
   ]
  },
  {
   "cell_type": "markdown",
   "metadata": {},
   "source": [
    "Or more complicated things like $\\frac{\\partial^3 f}{\\partial xy^2}$"
   ]
  },
  {
   "cell_type": "code",
   "execution_count": 602,
   "id": "de6f1911",
   "metadata": {},
   "outputs": [
    {
     "data": {
      "text/latex": [
       "$\\displaystyle - y^{2} \\cos{\\left(x + y \\right)} - 4 y \\sin{\\left(x + y \\right)} + 2 \\cos{\\left(x + y \\right)}$"
      ],
      "text/plain": [
       "-y**2*cos(x + y) - 4*y*sin(x + y) + 2*cos(x + y)"
      ]
     },
     "execution_count": 602,
     "metadata": {},
     "output_type": "execute_result"
    }
   ],
   "source": [
    "smp.diff(f, x, y, y)"
   ]
  },
  {
   "cell_type": "code",
   "execution_count": 603,
   "id": "16be6b41",
   "metadata": {},
   "outputs": [
    {
     "data": {
      "text/latex": [
       "$\\displaystyle - y^{2} \\cos{\\left(x + y \\right)} - 4 y \\sin{\\left(x + y \\right)} + 2 \\cos{\\left(x + y \\right)}$"
      ],
      "text/plain": [
       "-y**2*cos(x + y) - 4*y*sin(x + y) + 2*cos(x + y)"
      ]
     },
     "execution_count": 603,
     "metadata": {},
     "output_type": "execute_result"
    }
   ],
   "source": [
    "#same answer here\n",
    "smp.diff(f, y, x, y)"
   ]
  },
  {
   "cell_type": "markdown",
   "metadata": {},
   "source": [
    "## The Chain Rule"
   ]
  },
  {
   "cell_type": "code",
   "execution_count": 604,
   "id": "9fb59c6c",
   "metadata": {},
   "outputs": [],
   "source": [
    "t = smp.symbols('t')\n",
    "x, y, z, w, v = smp.symbols('x y z w v', cls=smp.Function)"
   ]
  },
  {
   "cell_type": "markdown",
   "metadata": {},
   "source": [
    "* Suppose $x$, $y$, and $z$ are functions of $t$ \n",
    "* $w$ is a function of $x$, $y$, and $z$. i.e $w=w(x,y,z)$\n",
    "\n",
    "Find $dw/dt$"
   ]
  },
  {
   "cell_type": "code",
   "execution_count": 605,
   "id": "5e515d94",
   "metadata": {},
   "outputs": [],
   "source": [
    "x = x(t)\n",
    "y = y(t)\n",
    "z = z(t)\n",
    "w = w(x, y, z)"
   ]
  },
  {
   "cell_type": "markdown",
   "metadata": {},
   "source": [
    "Can keep things in a more functional form:"
   ]
  },
  {
   "cell_type": "code",
   "execution_count": 606,
   "id": "8fd402ac",
   "metadata": {},
   "outputs": [
    {
     "data": {
      "text/latex": [
       "$\\displaystyle w{\\left(x{\\left(t \\right)},y{\\left(t \\right)},z{\\left(t \\right)} \\right)}$"
      ],
      "text/plain": [
       "w(x(t), y(t), z(t))"
      ]
     },
     "execution_count": 606,
     "metadata": {},
     "output_type": "execute_result"
    }
   ],
   "source": [
    "w"
   ]
  },
  {
   "cell_type": "code",
   "execution_count": 607,
   "id": "63e532a4",
   "metadata": {},
   "outputs": [
    {
     "data": {
      "text/latex": [
       "$\\displaystyle \\frac{d}{d x{\\left(t \\right)}} w{\\left(x{\\left(t \\right)},y{\\left(t \\right)},z{\\left(t \\right)} \\right)} \\frac{d}{d t} x{\\left(t \\right)} + \\frac{d}{d y{\\left(t \\right)}} w{\\left(x{\\left(t \\right)},y{\\left(t \\right)},z{\\left(t \\right)} \\right)} \\frac{d}{d t} y{\\left(t \\right)} + \\frac{d}{d z{\\left(t \\right)}} w{\\left(x{\\left(t \\right)},y{\\left(t \\right)},z{\\left(t \\right)} \\right)} \\frac{d}{d t} z{\\left(t \\right)}$"
      ],
      "text/plain": [
       "Derivative(w(x(t), y(t), z(t)), x(t))*Derivative(x(t), t) + Derivative(w(x(t), y(t), z(t)), y(t))*Derivative(y(t), t) + Derivative(w(x(t), y(t), z(t)), z(t))*Derivative(z(t), t)"
      ]
     },
     "execution_count": 607,
     "metadata": {},
     "output_type": "execute_result"
    }
   ],
   "source": [
    "smp.diff(w, t)"
   ]
  },
  {
   "cell_type": "markdown",
   "metadata": {},
   "source": [
    "Or put in specific functions:"
   ]
  },
  {
   "cell_type": "code",
   "execution_count": 608,
   "id": "bffa35b5",
   "metadata": {},
   "outputs": [
    {
     "data": {
      "text/latex": [
       "$\\displaystyle x^{2}{\\left(t \\right)} + e^{y{\\left(t \\right)}} \\sin{\\left(z{\\left(t \\right)} \\right)}$"
      ],
      "text/plain": [
       "x(t)**2 + exp(y(t))*sin(z(t))"
      ]
     },
     "execution_count": 608,
     "metadata": {},
     "output_type": "execute_result"
    }
   ],
   "source": [
    "w1 = x**2 + smp.exp(y) * smp.sin(z)\n",
    "w1"
   ]
  },
  {
   "cell_type": "code",
   "execution_count": 609,
   "id": "0582317f",
   "metadata": {},
   "outputs": [
    {
     "data": {
      "text/latex": [
       "$\\displaystyle 2 t e^{\\cos{\\left(t \\right)}} \\cos{\\left(t^{2} \\right)} - e^{\\cos{\\left(t \\right)}} \\sin{\\left(t \\right)} \\sin{\\left(t^{2} \\right)} + 2 \\sin{\\left(t \\right)} \\cos{\\left(t \\right)}$"
      ],
      "text/plain": [
       "2*t*exp(cos(t))*cos(t**2) - exp(cos(t))*sin(t)*sin(t**2) + 2*sin(t)*cos(t)"
      ]
     },
     "execution_count": 609,
     "metadata": {},
     "output_type": "execute_result"
    }
   ],
   "source": [
    "smp.diff(w1, t).subs([(x, smp.sin(t)),\n",
    "                      (y, smp.cos(t)), \n",
    "                      (z, t**2)]).doit()"
   ]
  },
  {
   "cell_type": "markdown",
   "metadata": {},
   "source": [
    "## Gradients"
   ]
  },
  {
   "cell_type": "markdown",
   "metadata": {},
   "source": [
    "Gradients: $\\nabla f$. Now we are dealing with particular coordinate systems, so we must be careful:"
   ]
  },
  {
   "cell_type": "code",
   "execution_count": 610,
   "id": "5a84fc73",
   "metadata": {},
   "outputs": [],
   "source": [
    "C = CoordSys3D('')"
   ]
  },
  {
   "cell_type": "code",
   "execution_count": 611,
   "id": "c97452ae",
   "metadata": {},
   "outputs": [
    {
     "data": {
      "text/latex": [
       "$\\displaystyle \\mathbf{{z}_{}}$"
      ],
      "text/plain": [
       ".z"
      ]
     },
     "execution_count": 611,
     "metadata": {},
     "output_type": "execute_result"
    }
   ],
   "source": [
    "C.z"
   ]
  },
  {
   "cell_type": "code",
   "execution_count": 612,
   "id": "7433a47d",
   "metadata": {},
   "outputs": [
    {
     "data": {
      "text/latex": [
       "$\\displaystyle \\left(\\sin{\\left(\\mathbf{{y}_{}} \\right)}\\right)\\mathbf{\\hat{i}_{}} + \\left(\\mathbf{{x}_{}} \\cos{\\left(\\mathbf{{y}_{}} \\right)}\\right)\\mathbf{\\hat{j}_{}}$"
      ],
      "text/plain": [
       "(sin(.y))*.i + (.x*cos(.y))*.j"
      ]
     },
     "execution_count": 612,
     "metadata": {},
     "output_type": "execute_result"
    }
   ],
   "source": [
    "f = C.x*smp.sin(C.y)\n",
    "gradient(f)"
   ]
  },
  {
   "cell_type": "code",
   "execution_count": 613,
   "id": "cb4db117",
   "metadata": {},
   "outputs": [
    {
     "data": {
      "text/latex": [
       "$\\displaystyle \\mathbf{{x}_{}} \\sin{\\left(\\mathbf{{y}_{}} \\right)}$"
      ],
      "text/plain": [
       ".x*sin(.y)"
      ]
     },
     "execution_count": 613,
     "metadata": {},
     "output_type": "execute_result"
    }
   ],
   "source": [
    "f"
   ]
  },
  {
   "cell_type": "code",
   "execution_count": 614,
   "id": "fa931e6c",
   "metadata": {},
   "outputs": [
    {
     "data": {
      "text/latex": [
       "$\\displaystyle \\left[\\begin{matrix}\\sin{\\left(\\mathbf{{y}_{}} \\right)}\\\\\\mathbf{{x}_{}} \\cos{\\left(\\mathbf{{y}_{}} \\right)}\\\\0\\end{matrix}\\right]$"
      ],
      "text/plain": [
       "Matrix([\n",
       "[   sin(.y)],\n",
       "[.x*cos(.y)],\n",
       "[         0]])"
      ]
     },
     "execution_count": 614,
     "metadata": {},
     "output_type": "execute_result"
    }
   ],
   "source": [
    "gradient(f).to_matrix(C)"
   ]
  },
  {
   "cell_type": "code",
   "execution_count": 615,
   "id": "da22d78f",
   "metadata": {},
   "outputs": [
    {
     "data": {
      "text/latex": [
       "$\\displaystyle \\left[\\begin{matrix}\\sin{\\left(1 \\right)}\\\\\\mathbf{{x}_{}} \\cos{\\left(1 \\right)}\\\\0\\end{matrix}\\right]$"
      ],
      "text/plain": [
       "Matrix([\n",
       "[   sin(1)],\n",
       "[.x*cos(1)],\n",
       "[        0]])"
      ]
     },
     "execution_count": 615,
     "metadata": {},
     "output_type": "execute_result"
    }
   ],
   "source": [
    "gradient(f).to_matrix(C).subs([(C.y,1)])"
   ]
  },
  {
   "cell_type": "markdown",
   "metadata": {},
   "source": [
    "## Directional Derivatives"
   ]
  },
  {
   "cell_type": "markdown",
   "metadata": {},
   "source": [
    "Directional derivatives $D_u f = \\nabla f \\cdot u$"
   ]
  },
  {
   "cell_type": "code",
   "execution_count": 616,
   "id": "e4e82b88",
   "metadata": {},
   "outputs": [
    {
     "data": {
      "text/latex": [
       "$\\displaystyle \\left(4\\right)\\mathbf{\\hat{i}_{}} + \\left(-3\\right)\\mathbf{\\hat{j}_{}} + \\left(2\\right)\\mathbf{\\hat{k}_{}}$"
      ],
      "text/plain": [
       "4*.i + (-3)*.j + 2*.k"
      ]
     },
     "execution_count": 616,
     "metadata": {},
     "output_type": "execute_result"
    }
   ],
   "source": [
    "u = 4*C.i - 3*C.j + 2*C.k\n",
    "u"
   ]
  },
  {
   "cell_type": "code",
   "execution_count": 617,
   "id": "d66eff5a",
   "metadata": {},
   "outputs": [
    {
     "data": {
      "text/latex": [
       "$\\displaystyle \\left(\\frac{4 \\sqrt{29}}{29}\\right)\\mathbf{\\hat{i}_{}} + \\left(- \\frac{3 \\sqrt{29}}{29}\\right)\\mathbf{\\hat{j}_{}} + \\left(\\frac{2 \\sqrt{29}}{29}\\right)\\mathbf{\\hat{k}_{}}$"
      ],
      "text/plain": [
       "(4*sqrt(29)/29)*.i + (-3*sqrt(29)/29)*.j + (2*sqrt(29)/29)*.k"
      ]
     },
     "execution_count": 617,
     "metadata": {},
     "output_type": "execute_result"
    }
   ],
   "source": [
    "# Make into unit Vector\n",
    "u = u.normalize()\n",
    "u"
   ]
  },
  {
   "cell_type": "code",
   "execution_count": 618,
   "id": "1c47c573",
   "metadata": {},
   "outputs": [
    {
     "data": {
      "text/latex": [
       "$\\displaystyle - \\frac{3 \\sqrt{29} \\mathbf{{x}_{}} \\cos{\\left(\\mathbf{{y}_{}} \\right)}}{29} + \\frac{4 \\sqrt{29} \\sin{\\left(\\mathbf{{y}_{}} \\right)}}{29}$"
      ],
      "text/plain": [
       "-3*sqrt(29)*.x*cos(.y)/29 + 4*sqrt(29)*sin(.y)/29"
      ]
     },
     "execution_count": 618,
     "metadata": {},
     "output_type": "execute_result"
    }
   ],
   "source": [
    "gradient(f).dot(u)"
   ]
  },
  {
   "cell_type": "markdown",
   "metadata": {},
   "source": [
    "## Extreme Values and Saddle Points"
   ]
  },
  {
   "cell_type": "markdown",
   "metadata": {},
   "source": [
    "Extreme values of $f(x,y)$ can occur at\n",
    "\n",
    "* 1. Boundary points of the domain of $f$\n",
    "* 2. Critical Points ($f_x=f_y=0$)\n",
    "\n",
    "If\n",
    "\n",
    "* (i) $f_{xx}<0$ and $f_{xx}f_{yy} - f_{xy}^2>0$ at (a,b) then **local maximum**\n",
    "* (ii) $f_{xx}>0$ and $f_{xx}f_{yy} - f_{xy}^2>0$ at (a,b) then **local minimum**\n",
    "* (iii) $f_{xx}f_{yy} - f_{xy}^2 < 0$ at (a,b) then **saddle point**\n",
    "* (iv) $f_{xx}f_{yy} - f_{xy}^2 = 0$ at (a,b) then **inconclusive**"
   ]
  },
  {
   "cell_type": "code",
   "execution_count": 619,
   "id": "76d8cb4d",
   "metadata": {},
   "outputs": [
    {
     "data": {
      "text/latex": [
       "$\\displaystyle x^{3} + 3 x y + y^{3}$"
      ],
      "text/plain": [
       "x**3 + 3*x*y + y**3"
      ]
     },
     "execution_count": 619,
     "metadata": {},
     "output_type": "execute_result"
    }
   ],
   "source": [
    "x, y = smp.symbols('x, y', real=True)\n",
    "f = x**3 + 3*x*y + y**3\n",
    "f"
   ]
  },
  {
   "cell_type": "code",
   "execution_count": 620,
   "id": "9fe8e085",
   "metadata": {},
   "outputs": [
    {
     "data": {
      "text/plain": [
       "[{x: -1, y: -1}, {x: 0, y: 0}]"
      ]
     },
     "execution_count": 620,
     "metadata": {},
     "output_type": "execute_result"
    }
   ],
   "source": [
    "smp.solve([smp.diff(f, x), smp.diff(f, y)])"
   ]
  },
  {
   "cell_type": "code",
   "execution_count": 621,
   "id": "da4e9475",
   "metadata": {},
   "outputs": [],
   "source": [
    "fxx = smp.diff(f, x, x)\n",
    "fyy = smp.diff(f, y, y)\n",
    "fxy = smp.diff(f, x, y)"
   ]
  },
  {
   "cell_type": "markdown",
   "metadata": {},
   "source": [
    "Testing the first point"
   ]
  },
  {
   "cell_type": "code",
   "execution_count": 622,
   "id": "2615c042",
   "metadata": {},
   "outputs": [
    {
     "data": {
      "text/latex": [
       "$\\displaystyle -6$"
      ],
      "text/plain": [
       "-6"
      ]
     },
     "execution_count": 622,
     "metadata": {},
     "output_type": "execute_result"
    }
   ],
   "source": [
    "fxx.subs([(x, -1), (y, -1)])"
   ]
  },
  {
   "cell_type": "code",
   "execution_count": 623,
   "id": "e7ea637f",
   "metadata": {},
   "outputs": [
    {
     "data": {
      "text/latex": [
       "$\\displaystyle 27$"
      ],
      "text/plain": [
       "27"
      ]
     },
     "execution_count": 623,
     "metadata": {},
     "output_type": "execute_result"
    }
   ],
   "source": [
    "test = fxx*fyy - fxy**2\n",
    "test.subs([(x, -1), (y, -1)])"
   ]
  },
  {
   "cell_type": "markdown",
   "metadata": {},
   "source": [
    "Thus the first point is a local maximum !!!"
   ]
  },
  {
   "cell_type": "markdown",
   "metadata": {},
   "source": [
    "## Lagrange Multipliers"
   ]
  },
  {
   "cell_type": "markdown",
   "metadata": {},
   "source": [
    "Minimize $f(x,y,z)$ subject to the constraint $g(x,y,z)=0$\n",
    "\n",
    "* Requires solving the two equations $\\nabla f = \\lambda \\nabla g$ and $g(x,y,z)=0$\n",
    "\n",
    "**Example**: A space probe has the shape of an ellipsoid $4x^2 + y^2 + 4z^2 = 16$ and after sitting in the sun for an hour. the temperature on its surface is given by $T(x,y,z)=8x^2+4yz-16z+600$. Find the hottest point on the surface\n",
    "\n",
    "Note that $g=4x^2 + y^2 + 4z^2 - 16 = 0$ and $f=T = 8x^2+4yz-16z+600$ here"
   ]
  },
  {
   "cell_type": "code",
   "execution_count": 624,
   "id": "691e292e",
   "metadata": {},
   "outputs": [],
   "source": [
    "C = CoordSys3D('')"
   ]
  },
  {
   "cell_type": "code",
   "execution_count": 625,
   "id": "f2117b06",
   "metadata": {},
   "outputs": [
    {
     "data": {
      "text/plain": [
       "[{\\lambda: 2, .x: -4/3, .y: -4/3, .z: -4/3},\n",
       " {\\lambda: sqrt(3), .x: 0, .y: -2, .z: -sqrt(3)},\n",
       " {\\lambda: -sqrt(3), .x: 0, .y: -2, .z: sqrt(3)},\n",
       " {\\lambda: 0, .x: 0, .y: 4, .z: 0},\n",
       " {\\lambda: 2, .x: 4/3, .y: -4/3, .z: -4/3}]"
      ]
     },
     "execution_count": 625,
     "metadata": {},
     "output_type": "execute_result"
    }
   ],
   "source": [
    "lam = smp.symbols('\\lambda')\n",
    "g = 4*C.x**2 + C.y**2 + 4*C.z**2 -16\n",
    "f = 8*C.x**2 + 4*C.y*C.z - 16*C.z + 600\n",
    "eq1 = gradient(f) - lam*gradient(g)\n",
    "eq1 = eq1.to_matrix(C)\n",
    "eq2 = g\n",
    "sols = smp.solve([eq1, eq2])\n",
    "sols"
   ]
  },
  {
   "cell_type": "code",
   "execution_count": 626,
   "id": "19f6cb34",
   "metadata": {},
   "outputs": [
    {
     "data": {
      "text/latex": [
       "$\\displaystyle \\left[\\begin{matrix}- 8 \\mathbf{{x}_{}} \\lambda + 16 \\mathbf{{x}_{}}\\\\- 2 \\mathbf{{y}_{}} \\lambda + 4 \\mathbf{{z}_{}}\\\\4 \\mathbf{{y}_{}} - 8 \\mathbf{{z}_{}} \\lambda - 16\\end{matrix}\\right]$"
      ],
      "text/plain": [
       "Matrix([\n",
       "[   -8*.x*\\lambda + 16*.x],\n",
       "[    -2*.y*\\lambda + 4*.z],\n",
       "[4*.y - 8*.z*\\lambda - 16]])"
      ]
     },
     "execution_count": 626,
     "metadata": {},
     "output_type": "execute_result"
    }
   ],
   "source": [
    "eq1 = gradient(f) - lam*gradient(g)\n",
    "eq1 = eq1.to_matrix(C)\n",
    "eq1"
   ]
  },
  {
   "cell_type": "code",
   "execution_count": 627,
   "id": "3de029e0",
   "metadata": {},
   "outputs": [
    {
     "name": "stdout",
     "output_type": "stream",
     "text": [
      "642.666666666667\n",
      "641.569219381653\n",
      "558.430780618347\n",
      "600.000000000000\n",
      "642.666666666667\n"
     ]
    }
   ],
   "source": [
    "for sol in sols :\n",
    "    print(f.subs(sol).evalf())      # this shows all temperatures "
   ]
  },
  {
   "cell_type": "code",
   "execution_count": 628,
   "id": "fab33605",
   "metadata": {},
   "outputs": [],
   "source": [
    "# first and last points are the hottest point of the ellipsoid"
   ]
  },
  {
   "cell_type": "markdown",
   "metadata": {},
   "source": [
    "First and last solutions are the points where the probe is the hottest."
   ]
  },
  {
   "cell_type": "markdown",
   "metadata": {},
   "source": [
    "# Multiple Integrals"
   ]
  },
  {
   "cell_type": "markdown",
   "metadata": {},
   "source": [
    "In rare cases these can be done symbolically:\n",
    "\n",
    "$$\\int_0^1 \\int_0^{1-x^2} \\int_3^{4-x^2-y^2} xdzdydx$$"
   ]
  },
  {
   "cell_type": "code",
   "execution_count": 629,
   "id": "8d46b839",
   "metadata": {},
   "outputs": [
    {
     "data": {
      "text/latex": [
       "$\\displaystyle \\frac{1}{8}$"
      ],
      "text/plain": [
       "1/8"
      ]
     },
     "execution_count": 629,
     "metadata": {},
     "output_type": "execute_result"
    }
   ],
   "source": [
    "x, y, z = smp.symbols('x, y, z')\n",
    "f = x                               # integrand\n",
    "smp.integrate(f, (z, 3, 4-x**2-y**2), (y, 0, 1-x**2), (x, 0, 1))"
   ]
  },
  {
   "cell_type": "markdown",
   "metadata": {},
   "source": [
    "But most of the time they need to be done numerically, such as in this example:\n",
    "\n",
    "$$\\int_0^1 \\int_0^{1-x^2} \\int_3^{4-x^2-y^2} xe^{-y}\\cos(z)dzdydx$$"
   ]
  },
  {
   "cell_type": "code",
   "execution_count": 630,
   "id": "a4516c4b",
   "metadata": {},
   "outputs": [
    {
     "data": {
      "text/plain": [
       "\"x, y, z = smp.symbols('x, y, z')\\nf = x*smp.exp(-y)*smp.cos(z)\\nsmp.integrate(f, (z, 3, 4-x**2-y**2), (y, 0, 1-x**2), (x, 0, 1))\""
      ]
     },
     "execution_count": 630,
     "metadata": {},
     "output_type": "execute_result"
    }
   ],
   "source": [
    "# Wont Run !!!\n",
    "'''x, y, z = smp.symbols('x, y, z')\n",
    "f = x*smp.exp(-y)*smp.cos(z)\n",
    "smp.integrate(f, (z, 3, 4-x**2-y**2), (y, 0, 1-x**2), (x, 0, 1))'''\n",
    "\n",
    "# no analytical solution to the following problem !"
   ]
  },
  {
   "cell_type": "markdown",
   "metadata": {},
   "source": [
    "Use scipy to evaluate this numerically"
   ]
  },
  {
   "cell_type": "code",
   "execution_count": 631,
   "id": "234f8ada",
   "metadata": {},
   "outputs": [
    {
     "name": "stdout",
     "output_type": "stream",
     "text": [
      "\u001b[1;31mSignature:\u001b[0m\n",
      "\u001b[0mtplquad\u001b[0m\u001b[1;33m(\u001b[0m\u001b[1;33m\n",
      "\u001b[0m    \u001b[0mfunc\u001b[0m\u001b[1;33m,\u001b[0m\u001b[1;33m\n",
      "\u001b[0m    \u001b[0ma\u001b[0m\u001b[1;33m,\u001b[0m\u001b[1;33m\n",
      "\u001b[0m    \u001b[0mb\u001b[0m\u001b[1;33m,\u001b[0m\u001b[1;33m\n",
      "\u001b[0m    \u001b[0mgfun\u001b[0m\u001b[1;33m,\u001b[0m\u001b[1;33m\n",
      "\u001b[0m    \u001b[0mhfun\u001b[0m\u001b[1;33m,\u001b[0m\u001b[1;33m\n",
      "\u001b[0m    \u001b[0mqfun\u001b[0m\u001b[1;33m,\u001b[0m\u001b[1;33m\n",
      "\u001b[0m    \u001b[0mrfun\u001b[0m\u001b[1;33m,\u001b[0m\u001b[1;33m\n",
      "\u001b[0m    \u001b[0margs\u001b[0m\u001b[1;33m=\u001b[0m\u001b[1;33m(\u001b[0m\u001b[1;33m)\u001b[0m\u001b[1;33m,\u001b[0m\u001b[1;33m\n",
      "\u001b[0m    \u001b[0mepsabs\u001b[0m\u001b[1;33m=\u001b[0m\u001b[1;36m1.49e-08\u001b[0m\u001b[1;33m,\u001b[0m\u001b[1;33m\n",
      "\u001b[0m    \u001b[0mepsrel\u001b[0m\u001b[1;33m=\u001b[0m\u001b[1;36m1.49e-08\u001b[0m\u001b[1;33m,\u001b[0m\u001b[1;33m\n",
      "\u001b[0m\u001b[1;33m)\u001b[0m\u001b[1;33m\u001b[0m\u001b[1;33m\u001b[0m\u001b[0m\n",
      "\u001b[1;31mDocstring:\u001b[0m\n",
      "Compute a triple (definite) integral.\n",
      "\n",
      "Return the triple integral of ``func(z, y, x)`` from ``x = a..b``,\n",
      "``y = gfun(x)..hfun(x)``, and ``z = qfun(x,y)..rfun(x,y)``.\n",
      "\n",
      "Parameters\n",
      "----------\n",
      "func : function\n",
      "    A Python function or method of at least three variables in the\n",
      "    order (z, y, x).\n",
      "a, b : float\n",
      "    The limits of integration in x: `a` < `b`\n",
      "gfun : function or float\n",
      "    The lower boundary curve in y which is a function taking a single\n",
      "    floating point argument (x) and returning a floating point result\n",
      "    or a float indicating a constant boundary curve.\n",
      "hfun : function or float\n",
      "    The upper boundary curve in y (same requirements as `gfun`).\n",
      "qfun : function or float\n",
      "    The lower boundary surface in z.  It must be a function that takes\n",
      "    two floats in the order (x, y) and returns a float or a float\n",
      "    indicating a constant boundary surface.\n",
      "rfun : function or float\n",
      "    The upper boundary surface in z. (Same requirements as `qfun`.)\n",
      "args : tuple, optional\n",
      "    Extra arguments to pass to `func`.\n",
      "epsabs : float, optional\n",
      "    Absolute tolerance passed directly to the innermost 1-D quadrature\n",
      "    integration. Default is 1.49e-8.\n",
      "epsrel : float, optional\n",
      "    Relative tolerance of the innermost 1-D integrals. Default is 1.49e-8.\n",
      "\n",
      "Returns\n",
      "-------\n",
      "y : float\n",
      "    The resultant integral.\n",
      "abserr : float\n",
      "    An estimate of the error.\n",
      "\n",
      "See Also\n",
      "--------\n",
      "quad : Adaptive quadrature using QUADPACK\n",
      "quadrature : Adaptive Gaussian quadrature\n",
      "fixed_quad : Fixed-order Gaussian quadrature\n",
      "dblquad : Double integrals\n",
      "nquad : N-dimensional integrals\n",
      "romb : Integrators for sampled data\n",
      "simpson : Integrators for sampled data\n",
      "ode : ODE integrators\n",
      "odeint : ODE integrators\n",
      "scipy.special : For coefficients and roots of orthogonal polynomials\n",
      "\n",
      "Notes\n",
      "-----\n",
      "For valid results, the integral must converge; behavior for divergent\n",
      "integrals is not guaranteed.\n",
      "\n",
      "**Details of QUADPACK level routines**\n",
      "\n",
      "`quad` calls routines from the FORTRAN library QUADPACK. This section\n",
      "provides details on the conditions for each routine to be called and a\n",
      "short description of each routine. For each level of integration, ``qagse``\n",
      "is used for finite limits or ``qagie`` is used, if either limit (or both!)\n",
      "are infinite. The following provides a short description from [1]_ for each\n",
      "routine.\n",
      "\n",
      "qagse\n",
      "    is an integrator based on globally adaptive interval\n",
      "    subdivision in connection with extrapolation, which will\n",
      "    eliminate the effects of integrand singularities of\n",
      "    several types.\n",
      "qagie\n",
      "    handles integration over infinite intervals. The infinite range is\n",
      "    mapped onto a finite interval and subsequently the same strategy as\n",
      "    in ``QAGS`` is applied.\n",
      "\n",
      "References\n",
      "----------\n",
      "\n",
      ".. [1] Piessens, Robert; de Doncker-Kapenga, Elise;\n",
      "       Überhuber, Christoph W.; Kahaner, David (1983).\n",
      "       QUADPACK: A subroutine package for automatic integration.\n",
      "       Springer-Verlag.\n",
      "       ISBN 978-3-540-12553-2.\n",
      "\n",
      "Examples\n",
      "--------\n",
      "Compute the triple integral of ``x * y * z``, over ``x`` ranging\n",
      "from 1 to 2, ``y`` ranging from 2 to 3, ``z`` ranging from 0 to 1.\n",
      "That is, :math:`\\int^{x=2}_{x=1} \\int^{y=3}_{y=2} \\int^{z=1}_{z=0} x y z\n",
      "\\,dz \\,dy \\,dx`.\n",
      "\n",
      ">>> import numpy as np\n",
      ">>> from scipy import integrate\n",
      ">>> f = lambda z, y, x: x*y*z\n",
      ">>> integrate.tplquad(f, 1, 2, 2, 3, 0, 1)\n",
      "(1.8749999999999998, 3.3246447942574074e-14)\n",
      "\n",
      "Calculate :math:`\\int^{x=1}_{x=0} \\int^{y=1-2x}_{y=0}\n",
      "\\int^{z=1-x-2y}_{z=0} x y z \\,dz \\,dy \\,dx`.\n",
      "Note: `qfun`/`rfun` takes arguments in the order (x, y), even though ``f``\n",
      "takes arguments in the order (z, y, x).\n",
      "\n",
      ">>> f = lambda z, y, x: x*y*z\n",
      ">>> integrate.tplquad(f, 0, 1, 0, lambda x: 1-2*x, 0, lambda x, y: 1-x-2*y)\n",
      "(0.05416666666666668, 2.1774196738157757e-14)\n",
      "\n",
      "Calculate :math:`\\int^{x=1}_{x=0} \\int^{y=1}_{y=0} \\int^{z=1}_{z=0}\n",
      "a x y z \\,dz \\,dy \\,dx` for :math:`a=1, 3`.\n",
      "\n",
      ">>> f = lambda z, y, x, a: a*x*y*z\n",
      ">>> integrate.tplquad(f, 0, 1, 0, 1, 0, 1, args=(1,))\n",
      "    (0.125, 5.527033708952211e-15)\n",
      ">>> integrate.tplquad(f, 0, 1, 0, 1, 0, 1, args=(3,))\n",
      "    (0.375, 1.6581101126856635e-14)\n",
      "\n",
      "Compute the three-dimensional Gaussian Integral, which is the integral of\n",
      "the Gaussian function :math:`f(x,y,z) = e^{-(x^{2} + y^{2} + z^{2})}`, over\n",
      ":math:`(-\\infty,+\\infty)`. That is, compute the integral\n",
      ":math:`\\iiint^{+\\infty}_{-\\infty} e^{-(x^{2} + y^{2} + z^{2})} \\,dz\n",
      "\\,dy\\,dx`.\n",
      "\n",
      ">>> f = lambda x, y, z: np.exp(-(x ** 2 + y ** 2 + z ** 2))\n",
      ">>> integrate.tplquad(f, -np.inf, np.inf, -np.inf, np.inf, -np.inf, np.inf)\n",
      "    (5.568327996830833, 4.4619078828029765e-08)\n",
      "\u001b[1;31mFile:\u001b[0m      c:\\users\\sheuh\\appdata\\local\\packages\\pythonsoftwarefoundation.python.3.11_qbz5n2kfra8p0\\localcache\\local-packages\\python311\\site-packages\\scipy\\integrate\\_quadpack_py.py\n",
      "\u001b[1;31mType:\u001b[0m      function"
     ]
    }
   ],
   "source": [
    "from scipy.integrate import tplquad\n",
    "tplquad?"
   ]
  },
  {
   "cell_type": "code",
   "execution_count": 632,
   "id": "31f83796",
   "metadata": {},
   "outputs": [
    {
     "data": {
      "text/plain": [
       "-0.09109526451447894"
      ]
     },
     "execution_count": 632,
     "metadata": {},
     "output_type": "execute_result"
    }
   ],
   "source": [
    "f = lambda z, y, x: x*np.exp(-y)*np.cos(z)  # here notation : order of integration is z -> y -> x\n",
    "tplquad(f, 0, 1, \n",
    "        lambda x: 0, lambda x: 1-x**2,\n",
    "        lambda x, y: 3, lambda x, y: 4-x**2-y**2\n",
    "        )[0]"
   ]
  },
  {
   "cell_type": "markdown",
   "metadata": {},
   "source": [
    "# Integrals and Vector Fields"
   ]
  },
  {
   "cell_type": "markdown",
   "metadata": {},
   "source": [
    "## Line Integrals (Scalar)"
   ]
  },
  {
   "cell_type": "markdown",
   "metadata": {},
   "source": [
    "Given $\\vec{r}(t) = \\left< g(t), h(t), k(t) \\right>$ the line integral of $f(x,y,z)$ along the curve is\n",
    "\n",
    "$$\\int_C f(x,y,z) ds = \\int_a^b f(g(t), h(t), k(t))|d\\vec{r}/dt|dt$$"
   ]
  },
  {
   "cell_type": "code",
   "execution_count": 633,
   "id": "4641462b",
   "metadata": {},
   "outputs": [],
   "source": [
    "t = smp.symbols('t', real=True)\n",
    "x, y, z, f = smp.symbols('x y z f', cls=smp.Function, real=True)\n",
    "x = x(t)\n",
    "y = y(t)\n",
    "z = z(t)\n",
    "r = smp.Matrix([x, y, z])\n",
    "f = f(x, y, z)"
   ]
  },
  {
   "cell_type": "code",
   "execution_count": 634,
   "id": "5f665e1b",
   "metadata": {},
   "outputs": [
    {
     "data": {
      "text/latex": [
       "$\\displaystyle f{\\left(x{\\left(t \\right)},y{\\left(t \\right)},z{\\left(t \\right)} \\right)}$"
      ],
      "text/plain": [
       "f(x(t), y(t), z(t))"
      ]
     },
     "execution_count": 634,
     "metadata": {},
     "output_type": "execute_result"
    }
   ],
   "source": [
    "f"
   ]
  },
  {
   "cell_type": "code",
   "execution_count": 635,
   "id": "e6a7070d",
   "metadata": {},
   "outputs": [
    {
     "data": {
      "text/latex": [
       "$\\displaystyle \\left[\\begin{matrix}x{\\left(t \\right)}\\\\y{\\left(t \\right)}\\\\z{\\left(t \\right)}\\end{matrix}\\right]$"
      ],
      "text/plain": [
       "Matrix([\n",
       "[x(t)],\n",
       "[y(t)],\n",
       "[z(t)]])"
      ]
     },
     "execution_count": 635,
     "metadata": {},
     "output_type": "execute_result"
    }
   ],
   "source": [
    "r"
   ]
  },
  {
   "cell_type": "code",
   "execution_count": 636,
   "id": "a274d2a5",
   "metadata": {},
   "outputs": [
    {
     "data": {
      "text/latex": [
       "$\\displaystyle \\sqrt{\\left|{\\frac{d}{d t} x{\\left(t \\right)}}\\right|^{2} + \\left|{\\frac{d}{d t} y{\\left(t \\right)}}\\right|^{2} + \\left|{\\frac{d}{d t} z{\\left(t \\right)}}\\right|^{2}} f{\\left(x{\\left(t \\right)},y{\\left(t \\right)},z{\\left(t \\right)} \\right)}$"
      ],
      "text/plain": [
       "sqrt(Abs(Derivative(x(t), t))**2 + Abs(Derivative(y(t), t))**2 + Abs(Derivative(z(t), t))**2)*f(x(t), y(t), z(t))"
      ]
     },
     "execution_count": 636,
     "metadata": {},
     "output_type": "execute_result"
    }
   ],
   "source": [
    "integrand = f*smp.diff(r, t).norm()\n",
    "integrand"
   ]
  },
  {
   "cell_type": "markdown",
   "metadata": {},
   "source": [
    "Suppose \n",
    "* $\\vec{r}(t) = \\left<\\cos(t), \\sin(t), t \\right>$ \n",
    "* $f(x,y,z)=2xy+\\sqrt{z}$ \n",
    "\n",
    "and we are going from $t=0$ to $t=2\\pi$. In this case it can be solved symbolically:"
   ]
  },
  {
   "cell_type": "code",
   "execution_count": 637,
   "id": "6cc5998f",
   "metadata": {},
   "outputs": [
    {
     "data": {
      "text/latex": [
       "$\\displaystyle \\sqrt{2} \\left(\\sqrt{t} + \\sin{\\left(2 t \\right)}\\right)$"
      ],
      "text/plain": [
       "sqrt(2)*(sqrt(t) + sin(2*t))"
      ]
     },
     "execution_count": 637,
     "metadata": {},
     "output_type": "execute_result"
    }
   ],
   "source": [
    "integrand1 = integrand.subs([(f, 2*x*y + smp.sqrt(z)),\n",
    "                             (x, smp.cos(t)),\n",
    "                             (y, smp.sin(t)),\n",
    "                             (z, t)]).doit().simplify()\n",
    "integrand1"
   ]
  },
  {
   "cell_type": "code",
   "execution_count": 638,
   "id": "3c22a913",
   "metadata": {},
   "outputs": [
    {
     "data": {
      "text/latex": [
       "$\\displaystyle \\frac{8 \\pi^{\\frac{3}{2}}}{3}$"
      ],
      "text/plain": [
       "8*pi**(3/2)/3"
      ]
     },
     "execution_count": 638,
     "metadata": {},
     "output_type": "execute_result"
    }
   ],
   "source": [
    "smp.integrate(integrand1, (t, 0, 2*smp.pi)).simplify()"
   ]
  },
  {
   "cell_type": "markdown",
   "metadata": {},
   "source": [
    "In general, can't be done symbolically. Consider now\n",
    "\n",
    "* $\\vec{r}(t) = \\left<3\\cos(t), 2\\sin(t), e^{t/4} \\right>$ \n",
    "* $f(x,y,z)=2xy+\\sqrt{z}$ \n",
    "\n",
    "and we are going from $t=0$ to $t=2\\pi$."
   ]
  },
  {
   "cell_type": "code",
   "execution_count": 647,
   "id": "c30b5e30",
   "metadata": {},
   "outputs": [
    {
     "data": {
      "text/latex": [
       "$\\displaystyle \\frac{\\left(e^{\\frac{t}{8}} + 3 \\sin{\\left(2 t \\right)}\\right) \\sqrt{e^{\\frac{t}{2}} + 128 \\sin^{2}{\\left(t \\right)} + 16}}{4}$"
      ],
      "text/plain": [
       "(exp(t/8) + 3*sin(2*t))*sqrt(exp(t/2) + 128*sin(t)**2 + 16)/4"
      ]
     },
     "execution_count": 647,
     "metadata": {},
     "output_type": "execute_result"
    }
   ],
   "source": [
    "integrand2 = integrand.subs([(f, 2*x*y + smp.sqrt(z)),\n",
    "                             (x, 3*smp.cos(t)),\n",
    "                             (y, smp.sin(t)),\n",
    "                             (z, smp.exp(t/4))]).doit().simplify()\n",
    "integrand2"
   ]
  },
  {
   "cell_type": "code",
   "execution_count": 648,
   "id": "1f11e4c2",
   "metadata": {},
   "outputs": [],
   "source": [
    "# integrate wont run !\n",
    "# smp.integrate(integrand2, (t, 0, 2*smp.pi)).simplify()"
   ]
  },
  {
   "cell_type": "markdown",
   "metadata": {},
   "source": [
    "Do it numerically using scipy's `quad` function"
   ]
  },
  {
   "cell_type": "code",
   "execution_count": 649,
   "id": "84fa22cc",
   "metadata": {},
   "outputs": [],
   "source": [
    "from scipy.integrate import quad\n",
    "integrand2_num = smp.lambdify([t], integrand2)"
   ]
  },
  {
   "cell_type": "code",
   "execution_count": 650,
   "id": "43cc6fd3",
   "metadata": {},
   "outputs": [
    {
     "data": {
      "text/plain": [
       "21.055300456759795"
      ]
     },
     "execution_count": 650,
     "metadata": {},
     "output_type": "execute_result"
    }
   ],
   "source": [
    "quad(integrand2_num, 0, 2*np.pi)[0]"
   ]
  },
  {
   "cell_type": "markdown",
   "metadata": {},
   "source": [
    "## Line Integrals (Vector)"
   ]
  },
  {
   "cell_type": "markdown",
   "metadata": {},
   "source": [
    "Given $\\vec{r}(t) = \\left< g(t), h(t), k(t) \\right>$ the line integral of $\\vec{F}(x,y,z)$ along the curve is\n",
    "\n",
    "$$\\int_C \\vec{F}(x,y,z) \\cdot d\\vec{r} = \\int_a^b\\vec{F}(g(t), h(t), k(t)) \\cdot \\frac{d\\vec{r}}{dt} dt$$"
   ]
  },
  {
   "cell_type": "code",
   "execution_count": null,
   "id": "8010b09f",
   "metadata": {},
   "outputs": [],
   "source": [
    "# Work of Field force done on a particular particle in space"
   ]
  },
  {
   "cell_type": "code",
   "execution_count": 671,
   "id": "fe76a47c",
   "metadata": {},
   "outputs": [],
   "source": [
    "x, y, z, F1, F2, F3 = smp.symbols('x, y, z, F_1, F_2, F_3', cls=smp.Function, real=True)\n",
    "x = x(t)\n",
    "y = y(t)\n",
    "z = z(t)\n",
    "F1 = F1(x, y, z)\n",
    "F2 = F2(x, y, z)\n",
    "F3 = F3(x, y, z)\n",
    "r = smp.Matrix([x, y, z])\n",
    "F = smp.Matrix([F1, F2, F3])"
   ]
  },
  {
   "cell_type": "code",
   "execution_count": 674,
   "id": "580bb218",
   "metadata": {},
   "outputs": [
    {
     "data": {
      "text/latex": [
       "$\\displaystyle \\left[\\begin{matrix}F_{1}{\\left(x{\\left(t \\right)},y{\\left(t \\right)},z{\\left(t \\right)} \\right)}\\\\F_{2}{\\left(x{\\left(t \\right)},y{\\left(t \\right)},z{\\left(t \\right)} \\right)}\\\\F_{3}{\\left(x{\\left(t \\right)},y{\\left(t \\right)},z{\\left(t \\right)} \\right)}\\end{matrix}\\right]$"
      ],
      "text/plain": [
       "Matrix([\n",
       "[F_1(x(t), y(t), z(t))],\n",
       "[F_2(x(t), y(t), z(t))],\n",
       "[F_3(x(t), y(t), z(t))]])"
      ]
     },
     "execution_count": 674,
     "metadata": {},
     "output_type": "execute_result"
    }
   ],
   "source": [
    "F"
   ]
  },
  {
   "cell_type": "code",
   "execution_count": 672,
   "id": "8df3f881",
   "metadata": {},
   "outputs": [
    {
     "data": {
      "text/latex": [
       "$\\displaystyle F_{1}{\\left(x{\\left(t \\right)},y{\\left(t \\right)},z{\\left(t \\right)} \\right)} \\frac{d}{d t} x{\\left(t \\right)} + F_{2}{\\left(x{\\left(t \\right)},y{\\left(t \\right)},z{\\left(t \\right)} \\right)} \\frac{d}{d t} y{\\left(t \\right)} + F_{3}{\\left(x{\\left(t \\right)},y{\\left(t \\right)},z{\\left(t \\right)} \\right)} \\frac{d}{d t} z{\\left(t \\right)}$"
      ],
      "text/plain": [
       "F_1(x(t), y(t), z(t))*Derivative(x(t), t) + F_2(x(t), y(t), z(t))*Derivative(y(t), t) + F_3(x(t), y(t), z(t))*Derivative(z(t), t)"
      ]
     },
     "execution_count": 672,
     "metadata": {},
     "output_type": "execute_result"
    }
   ],
   "source": [
    "integrand = F.dot(smp.diff(r, t))\n",
    "integrand"
   ]
  },
  {
   "cell_type": "markdown",
   "metadata": {},
   "source": [
    "Suppose $\\vec{F} = \\left< \\sqrt{z}, -2x, \\sqrt{y}\\right>$ and $\\vec{r}(t) = \\left<t, t^2, t^4 \\right>$ from $t=0$ to $t=1$"
   ]
  },
  {
   "cell_type": "code",
   "execution_count": 677,
   "id": "918caf12",
   "metadata": {},
   "outputs": [
    {
     "data": {
      "text/latex": [
       "$\\displaystyle t^{2} \\cdot \\left(4 t \\left|{t}\\right| - 3\\right)$"
      ],
      "text/plain": [
       "t**2*(4*t*Abs(t) - 3)"
      ]
     },
     "execution_count": 677,
     "metadata": {},
     "output_type": "execute_result"
    }
   ],
   "source": [
    "integrand1 = integrand.subs([(F1, smp.sqrt(z)),\n",
    "                             (F2, -2*x),\n",
    "                             (F3, smp.sqrt(y)),\n",
    "                             (x, t),\n",
    "                             (y, t**2),\n",
    "                             (z, t**4)]).doit().simplify()\n",
    "integrand1"
   ]
  },
  {
   "cell_type": "code",
   "execution_count": 678,
   "id": "def5ae04",
   "metadata": {},
   "outputs": [
    {
     "data": {
      "text/latex": [
       "$\\displaystyle - \\frac{1}{5}$"
      ],
      "text/plain": [
       "-1/5"
      ]
     },
     "execution_count": 678,
     "metadata": {},
     "output_type": "execute_result"
    }
   ],
   "source": [
    "smp.integrate(integrand1, (t,0,1))"
   ]
  },
  {
   "cell_type": "markdown",
   "metadata": {},
   "source": [
    "Often times this can't be done by hand, and one needs to evaluate numerically using scipy:\n",
    "\n",
    "Suppose $\\vec{F} = \\left< \\sqrt{|z|}, -2x, \\sqrt{|y|}\\right>$ and $\\vec{r}(t) = \\left<3\\cos^2(t), t^2, 2\\sin(t) \\right>$ from $t=0$ to $t=2\\pi$"
   ]
  },
  {
   "cell_type": "code",
   "execution_count": 685,
   "id": "61333d19",
   "metadata": {},
   "outputs": [
    {
     "data": {
      "text/latex": [
       "$\\displaystyle 2 \\left(- 6 t \\cos{\\left(t \\right)} - 3 \\sqrt{2} \\sin{\\left(t \\right)} \\sqrt{\\left|{\\sin{\\left(t \\right)}}\\right|} + \\left|{t}\\right|\\right) \\cos{\\left(t \\right)}$"
      ],
      "text/plain": [
       "2*(-6*t*cos(t) - 3*sqrt(2)*sin(t)*sqrt(Abs(sin(t))) + Abs(t))*cos(t)"
      ]
     },
     "execution_count": 685,
     "metadata": {},
     "output_type": "execute_result"
    }
   ],
   "source": [
    "integrand2 = integrand.subs([(F1, smp.sqrt(smp.Abs(z))),\n",
    "                             (F2, -2*x),\n",
    "                             (F3, smp.sqrt(smp.Abs(y))),\n",
    "                             (x, 3*smp.cos(t)**2),\n",
    "                             (y, t**2),\n",
    "                             (z, 2*smp.sin(t))]).doit().simplify()\n",
    "integrand2\n",
    "# again wont run for : \n",
    "# smp.integrate(integrand2, (t, 0, 2*smp.pi))"
   ]
  },
  {
   "cell_type": "markdown",
   "metadata": {},
   "source": [
    "Do it numerically using scipy's `quad` function"
   ]
  },
  {
   "cell_type": "code",
   "execution_count": 688,
   "id": "57cabf50",
   "metadata": {},
   "outputs": [],
   "source": [
    "integrand2_num = smp.lambdify([t], integrand2)\n"
   ]
  },
  {
   "cell_type": "code",
   "execution_count": 691,
   "id": "973f5481",
   "metadata": {},
   "outputs": [
    {
     "data": {
      "text/plain": [
       "-118.4352528130723"
      ]
     },
     "execution_count": 691,
     "metadata": {},
     "output_type": "execute_result"
    }
   ],
   "source": [
    "quad(integrand2_num, 0, 2*np.pi)[0]"
   ]
  },
  {
   "cell_type": "markdown",
   "metadata": {},
   "source": [
    "## Surface Integrals (Scalar)"
   ]
  },
  {
   "cell_type": "markdown",
   "metadata": {},
   "source": [
    "Area of a surface parameterized by $\\vec{r}(u,v)$ is given by \n",
    "\n",
    "$$A = \\iint_S \\left| \\frac{d\\vec{r}}{du} \\times \\frac{d\\vec{r}}{dv} \\right| du dv$$\n",
    "\n",
    "The surface integral of a scalar function $G(\\vec{r})$ is given by\n",
    "\n",
    "$$\\iint_S G(\\vec{r}(u,v)) \\left| \\frac{d\\vec{r}}{du} \\times \\frac{d\\vec{r}}{dv} \\right| du dv$$"
   ]
  },
  {
   "cell_type": "code",
   "execution_count": 730,
   "id": "04760782",
   "metadata": {},
   "outputs": [],
   "source": [
    "# r(u, v) is a surface\n",
    "# r is a vector"
   ]
  },
  {
   "cell_type": "markdown",
   "metadata": {},
   "source": [
    "2D parabola: $\\vec{r}(x,y) = \\left<x, y, x^2+y^2 \\right>$ and thus $\\vec{r}(\\rho, \\theta) = \\left<\\rho\\cos\\theta, \\rho\\sin\\theta, \\rho^2\\right>$. Suppose the surface density is given by $G(x,y,z)=x^2+y^2$. Find surface integral for $0<\\rho<1$ and $0<\\theta<2\\pi$"
   ]
  },
  {
   "cell_type": "code",
   "execution_count": 731,
   "id": "d82d77c7",
   "metadata": {},
   "outputs": [],
   "source": [
    "rho, the = smp.symbols(r'\\rho \\theta', pos=True, real=True)\n",
    "x, y, z, G = smp.symbols('x y z G', cls=smp.Function, real=True)\n",
    "x = x(rho, the)\n",
    "y = y(rho, the)  \n",
    "z = z(rho, the)\n",
    "G = G(x, y, z)\n",
    "r = smp.Matrix([x, y, z])"
   ]
  },
  {
   "cell_type": "code",
   "execution_count": 732,
   "id": "fcc3d09b",
   "metadata": {},
   "outputs": [
    {
     "data": {
      "text/latex": [
       "$\\displaystyle \\sqrt{\\left|{\\frac{\\partial}{\\partial \\rho} x{\\left(\\rho,\\theta \\right)} \\frac{\\partial}{\\partial \\theta} y{\\left(\\rho,\\theta \\right)} - \\frac{\\partial}{\\partial \\theta} x{\\left(\\rho,\\theta \\right)} \\frac{\\partial}{\\partial \\rho} y{\\left(\\rho,\\theta \\right)}}\\right|^{2} + \\left|{\\frac{\\partial}{\\partial \\rho} x{\\left(\\rho,\\theta \\right)} \\frac{\\partial}{\\partial \\theta} z{\\left(\\rho,\\theta \\right)} - \\frac{\\partial}{\\partial \\theta} x{\\left(\\rho,\\theta \\right)} \\frac{\\partial}{\\partial \\rho} z{\\left(\\rho,\\theta \\right)}}\\right|^{2} + \\left|{\\frac{\\partial}{\\partial \\rho} y{\\left(\\rho,\\theta \\right)} \\frac{\\partial}{\\partial \\theta} z{\\left(\\rho,\\theta \\right)} - \\frac{\\partial}{\\partial \\theta} y{\\left(\\rho,\\theta \\right)} \\frac{\\partial}{\\partial \\rho} z{\\left(\\rho,\\theta \\right)}}\\right|^{2}} G{\\left(x{\\left(\\rho,\\theta \\right)},y{\\left(\\rho,\\theta \\right)},z{\\left(\\rho,\\theta \\right)} \\right)}$"
      ],
      "text/plain": [
       "sqrt(Abs(Derivative(x(\\rho, \\theta), \\rho)*Derivative(y(\\rho, \\theta), \\theta) - Derivative(x(\\rho, \\theta), \\theta)*Derivative(y(\\rho, \\theta), \\rho))**2 + Abs(Derivative(x(\\rho, \\theta), \\rho)*Derivative(z(\\rho, \\theta), \\theta) - Derivative(x(\\rho, \\theta), \\theta)*Derivative(z(\\rho, \\theta), \\rho))**2 + Abs(Derivative(y(\\rho, \\theta), \\rho)*Derivative(z(\\rho, \\theta), \\theta) - Derivative(y(\\rho, \\theta), \\theta)*Derivative(z(\\rho, \\theta), \\rho))**2)*G(x(\\rho, \\theta), y(\\rho, \\theta), z(\\rho, \\theta))"
      ]
     },
     "execution_count": 732,
     "metadata": {},
     "output_type": "execute_result"
    }
   ],
   "source": [
    "integrand = G*smp.diff(r, rho).cross(smp.diff(r, the)).norm()\n",
    "integrand"
   ]
  },
  {
   "cell_type": "code",
   "execution_count": 733,
   "id": "0c15d8ef",
   "metadata": {},
   "outputs": [
    {
     "data": {
      "text/latex": [
       "$\\displaystyle \\rho^{2} \\sqrt{4 \\rho^{2} + 1} \\left|{\\rho}\\right|$"
      ],
      "text/plain": [
       "\\rho**2*sqrt(4*\\rho**2 + 1)*Abs(\\rho)"
      ]
     },
     "execution_count": 733,
     "metadata": {},
     "output_type": "execute_result"
    }
   ],
   "source": [
    "integrand1 = integrand.subs([(G, x**2 + y**2),\n",
    "                            (x, rho*smp.cos(the)),\n",
    "                            (y, rho*smp.sin(the)),\n",
    "                            (z, rho**2)\n",
    "                            ]).simplify()\n",
    "integrand1"
   ]
  },
  {
   "cell_type": "code",
   "execution_count": 737,
   "id": "1c0db4a3",
   "metadata": {},
   "outputs": [
    {
     "data": {
      "text/latex": [
       "$\\displaystyle \\frac{\\pi \\left(1 + 25 \\sqrt{5}\\right)}{60}$"
      ],
      "text/plain": [
       "pi*(1 + 25*sqrt(5))/60"
      ]
     },
     "execution_count": 737,
     "metadata": {},
     "output_type": "execute_result"
    }
   ],
   "source": [
    "smp.integrate(integrand1, (rho, 0, 1), (the, 0, 2*smp.pi)).simplify()"
   ]
  },
  {
   "cell_type": "markdown",
   "metadata": {},
   "source": [
    "As before, if this integral can't be done symbolically, need to use scipy to convert to numerical function."
   ]
  },
  {
   "cell_type": "markdown",
   "metadata": {},
   "source": [
    "## Surface Integrals (Vector)"
   ]
  },
  {
   "cell_type": "markdown",
   "metadata": {},
   "source": [
    "The surface integral of a vector function $\\vec{G}(\\vec{r})$ is given by\n",
    "\n",
    "$$\\iint_S \\vec{G}(\\vec{r}(u,v)) \\cdot \\left(\\frac{d\\vec{r}}{du} \\times \\frac{d\\vec{r}}{dv}\\right) du dv$$\n",
    "\n",
    "This is also know as the flux of the vector field $\\vec{G}$ through the surface"
   ]
  },
  {
   "cell_type": "code",
   "execution_count": 742,
   "id": "b5a1dd8f",
   "metadata": {},
   "outputs": [],
   "source": [
    "# flux thru a surface, eg: electric vector field, integral can calculate the flux of G vector thru field"
   ]
  },
  {
   "cell_type": "markdown",
   "metadata": {},
   "source": [
    "2D parabola: $\\vec{r}(x,y) = \\left<x, y, x^2+y^2 \\right>$ and thus $\\vec{r}(\\rho, \\theta) = \\left<\\rho\\cos\\theta, \\rho\\sin\\theta, \\rho^2\\right>$. Suppose a vector field is given by $\\vec{G}(x,y,z)=\\left<y^2, z, 0 \\right>$. Find the flux of $\\vec{G}$ through half the surface for $0<\\rho<1$ and $0<\\theta<\\pi$"
   ]
  },
  {
   "cell_type": "code",
   "execution_count": 744,
   "id": "cab2e1fa",
   "metadata": {},
   "outputs": [],
   "source": [
    "rho, the = smp.symbols(r'\\rho \\theta', pos=True, real=True)\n",
    "x, y, z, G1, G2, G3 = smp.symbols('x y z G1 G2 G3', cls=smp.Function, real=True)\n",
    "x = x(rho, the)\n",
    "y = y(rho, the)\n",
    "z = z(rho, the)\n",
    "G1 = G1(x, y, z)\n",
    "G2 = G2(x, y, z)\n",
    "G3 = G3(x, y, z)\n",
    "r = smp.Matrix([x, y, z])\n",
    "G = smp.Matrix([G1, G2, G3])"
   ]
  },
  {
   "cell_type": "code",
   "execution_count": 743,
   "id": "95b1af5b",
   "metadata": {},
   "outputs": [
    {
     "data": {
      "text/latex": [
       "$\\displaystyle \\left[\\begin{matrix}G_{1}{\\left(x{\\left(\\rho,\\theta \\right)},y{\\left(\\rho,\\theta \\right)},z{\\left(\\rho,\\theta \\right)} \\right)}\\\\G_{2}{\\left(x{\\left(\\rho,\\theta \\right)},y{\\left(\\rho,\\theta \\right)},z{\\left(\\rho,\\theta \\right)} \\right)}\\\\G_{3}{\\left(x{\\left(\\rho,\\theta \\right)},y{\\left(\\rho,\\theta \\right)},z{\\left(\\rho,\\theta \\right)} \\right)}\\end{matrix}\\right]$"
      ],
      "text/plain": [
       "Matrix([\n",
       "[G1(x(\\rho, \\theta), y(\\rho, \\theta), z(\\rho, \\theta))],\n",
       "[G2(x(\\rho, \\theta), y(\\rho, \\theta), z(\\rho, \\theta))],\n",
       "[G3(x(\\rho, \\theta), y(\\rho, \\theta), z(\\rho, \\theta))]])"
      ]
     },
     "execution_count": 743,
     "metadata": {},
     "output_type": "execute_result"
    }
   ],
   "source": [
    "G"
   ]
  },
  {
   "cell_type": "code",
   "execution_count": 745,
   "id": "273b5130",
   "metadata": {},
   "outputs": [
    {
     "data": {
      "text/latex": [
       "$\\displaystyle \\left(\\frac{\\partial}{\\partial \\rho} x{\\left(\\rho,\\theta \\right)} \\frac{\\partial}{\\partial \\theta} y{\\left(\\rho,\\theta \\right)} - \\frac{\\partial}{\\partial \\theta} x{\\left(\\rho,\\theta \\right)} \\frac{\\partial}{\\partial \\rho} y{\\left(\\rho,\\theta \\right)}\\right) G_{3}{\\left(x{\\left(\\rho,\\theta \\right)},y{\\left(\\rho,\\theta \\right)},z{\\left(\\rho,\\theta \\right)} \\right)} + \\left(- \\frac{\\partial}{\\partial \\rho} x{\\left(\\rho,\\theta \\right)} \\frac{\\partial}{\\partial \\theta} z{\\left(\\rho,\\theta \\right)} + \\frac{\\partial}{\\partial \\theta} x{\\left(\\rho,\\theta \\right)} \\frac{\\partial}{\\partial \\rho} z{\\left(\\rho,\\theta \\right)}\\right) G_{2}{\\left(x{\\left(\\rho,\\theta \\right)},y{\\left(\\rho,\\theta \\right)},z{\\left(\\rho,\\theta \\right)} \\right)} + \\left(\\frac{\\partial}{\\partial \\rho} y{\\left(\\rho,\\theta \\right)} \\frac{\\partial}{\\partial \\theta} z{\\left(\\rho,\\theta \\right)} - \\frac{\\partial}{\\partial \\theta} y{\\left(\\rho,\\theta \\right)} \\frac{\\partial}{\\partial \\rho} z{\\left(\\rho,\\theta \\right)}\\right) G_{1}{\\left(x{\\left(\\rho,\\theta \\right)},y{\\left(\\rho,\\theta \\right)},z{\\left(\\rho,\\theta \\right)} \\right)}$"
      ],
      "text/plain": [
       "(Derivative(x(\\rho, \\theta), \\rho)*Derivative(y(\\rho, \\theta), \\theta) - Derivative(x(\\rho, \\theta), \\theta)*Derivative(y(\\rho, \\theta), \\rho))*G3(x(\\rho, \\theta), y(\\rho, \\theta), z(\\rho, \\theta)) + (-Derivative(x(\\rho, \\theta), \\rho)*Derivative(z(\\rho, \\theta), \\theta) + Derivative(x(\\rho, \\theta), \\theta)*Derivative(z(\\rho, \\theta), \\rho))*G2(x(\\rho, \\theta), y(\\rho, \\theta), z(\\rho, \\theta)) + (Derivative(y(\\rho, \\theta), \\rho)*Derivative(z(\\rho, \\theta), \\theta) - Derivative(y(\\rho, \\theta), \\theta)*Derivative(z(\\rho, \\theta), \\rho))*G1(x(\\rho, \\theta), y(\\rho, \\theta), z(\\rho, \\theta))"
      ]
     },
     "execution_count": 745,
     "metadata": {},
     "output_type": "execute_result"
    }
   ],
   "source": [
    "integrand = G.dot( smp.diff(r,rho).cross( smp.diff(r,the) ) ) \n",
    "integrand"
   ]
  },
  {
   "cell_type": "code",
   "execution_count": 746,
   "id": "58cb5122",
   "metadata": {},
   "outputs": [
    {
     "data": {
      "text/latex": [
       "$\\displaystyle - 2 \\rho^{4} \\left(\\frac{\\sin{\\left(2 \\theta \\right)}}{2} + 1\\right) \\sin{\\left(\\theta \\right)}$"
      ],
      "text/plain": [
       "-2*\\rho**4*(sin(2*\\theta)/2 + 1)*sin(\\theta)"
      ]
     },
     "execution_count": 746,
     "metadata": {},
     "output_type": "execute_result"
    }
   ],
   "source": [
    "integrand1 = integrand.subs([(G1, y**2),\n",
    "                             (G2, z),\n",
    "                             (G3, 0),\n",
    "                             (x, rho*smp.cos(the)),\n",
    "                             (y, rho*smp.sin(the)),\n",
    "                             (z, rho**2),\n",
    "                             ]).doit().simplify()\n",
    "integrand1"
   ]
  },
  {
   "cell_type": "code",
   "execution_count": 747,
   "id": "a8589078",
   "metadata": {},
   "outputs": [
    {
     "data": {
      "text/latex": [
       "$\\displaystyle - \\frac{4}{5}$"
      ],
      "text/plain": [
       "-4/5"
      ]
     },
     "execution_count": 747,
     "metadata": {},
     "output_type": "execute_result"
    }
   ],
   "source": [
    "smp.integrate(integrand1, (rho, 0, 1), (the, 0, smp.pi))"
   ]
  },
  {
   "cell_type": "markdown",
   "metadata": {},
   "source": [
    "Again, if this could not be done symbolically, one would need to convert the integrand into a numpy function and integrate using scipys `quad` function, like in previous examples."
   ]
  },
  {
   "cell_type": "markdown",
   "metadata": {},
   "source": [
    "## Explicit Sympy Functionality"
   ]
  },
  {
   "cell_type": "code",
   "execution_count": 748,
   "id": "0949d150",
   "metadata": {},
   "outputs": [],
   "source": [
    "from sympy.vector import ParametricRegion"
   ]
  },
  {
   "cell_type": "markdown",
   "metadata": {},
   "source": [
    "Find the mass of a cylinder with radius $a$ and height $h$ centered at origin with density $\\rho(x,y)=x^2+y^2$"
   ]
  },
  {
   "cell_type": "code",
   "execution_count": 751,
   "id": "4aef7750",
   "metadata": {},
   "outputs": [],
   "source": [
    "a, h, r, the, z = smp.symbols(r'a h r \\theta z', positie=True)"
   ]
  },
  {
   "cell_type": "code",
   "execution_count": 754,
   "id": "0843a898",
   "metadata": {},
   "outputs": [
    {
     "data": {
      "text/latex": [
       "$\\displaystyle \\operatorname{ParametricRegion}\\left(\\left( r \\cos{\\left(\\theta \\right)}, \\  r \\sin{\\left(\\theta \\right)}, \\  z\\right), \\left( \\theta, \\  0, \\  2 \\pi\\right), \\left( z, \\  0, \\  h\\right), \\left( r, \\  0, \\  a\\right)\\right)$"
      ],
      "text/plain": [
       "ParametricRegion((r*cos(\\theta), r*sin(\\theta), z), (\\theta, 0, 2*pi), (z, 0, h), (r, 0, a))"
      ]
     },
     "execution_count": 754,
     "metadata": {},
     "output_type": "execute_result"
    }
   ],
   "source": [
    "cylinder = ParametricRegion((r*smp.cos(the), r*smp.sin(the), z),\n",
    "                            (the, 0, 2*smp.pi), (z,0,h), (r,0,a))\n",
    "cylinder"
   ]
  },
  {
   "cell_type": "code",
   "execution_count": 755,
   "id": "3c9724cf",
   "metadata": {},
   "outputs": [
    {
     "data": {
      "text/latex": [
       "$\\displaystyle \\frac{\\pi a^{4} h}{2}$"
      ],
      "text/plain": [
       "pi*a**4*h/2"
      ]
     },
     "execution_count": 755,
     "metadata": {},
     "output_type": "execute_result"
    }
   ],
   "source": [
    "vector_integrate(C.x**2 + C.y**2, cylinder)"
   ]
  },
  {
   "cell_type": "code",
   "execution_count": 756,
   "id": "21f706bc",
   "metadata": {},
   "outputs": [],
   "source": [
    "# usually this could also be done symbolically, then can be solve using numerical function"
   ]
  },
  {
   "cell_type": "markdown",
   "metadata": {},
   "source": [
    "Not necessarily a fan of this functionailty because there is no clear way of converting it into an numerical function if it cannot be computed symbolically. For more see\n",
    "\n",
    "https://docs.sympy.org/latest/modules/vector/vector_integration.html"
   ]
  }
 ],
 "metadata": {
  "kernelspec": {
   "display_name": "Python 3",
   "language": "python",
   "name": "python3"
  },
  "language_info": {
   "codemirror_mode": {
    "name": "ipython",
    "version": 3
   },
   "file_extension": ".py",
   "mimetype": "text/x-python",
   "name": "python",
   "nbconvert_exporter": "python",
   "pygments_lexer": "ipython3",
   "version": "3.11.5"
  }
 },
 "nbformat": 4,
 "nbformat_minor": 5
}
